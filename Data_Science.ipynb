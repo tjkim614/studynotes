{
 "cells": [
  {
   "cell_type": "markdown",
   "metadata": {
    "heading_collapsed": true
   },
   "source": [
    "# Disclaimer"
   ]
  },
  {
   "cell_type": "markdown",
   "metadata": {
    "hidden": true
   },
   "source": [
    "**Author:** TaeJoon Kim\n",
    "\n",
    "**Designed for:** personal use and a quick reference for other Data Scientists.\n",
    "\n",
    "I also hope this notebook serves as a good study guide that can help people in their journey in becoming a Data Scientist!"
   ]
  },
  {
   "cell_type": "markdown",
   "metadata": {
    "hidden": true
   },
   "source": [
    "Please run below cells to import necessary libraries and tools:"
   ]
  },
  {
   "cell_type": "code",
   "execution_count": 1,
   "metadata": {
    "hidden": true
   },
   "outputs": [],
   "source": [
    "# !pip install xlrd\n",
    "# !pip install openpyxl"
   ]
  },
  {
   "cell_type": "markdown",
   "metadata": {
    "heading_collapsed": true
   },
   "source": [
    "# The Data Science Process"
   ]
  },
  {
   "cell_type": "code",
   "execution_count": 1,
   "metadata": {
    "hidden": true
   },
   "outputs": [],
   "source": [
    "# OSEMN Process"
   ]
  },
  {
   "cell_type": "markdown",
   "metadata": {
    "hidden": true
   },
   "source": [
    "Obtain\n",
    "Scrub\n",
    "Explore\n",
    "Model\n",
    "Interpret"
   ]
  },
  {
   "cell_type": "markdown",
   "metadata": {
    "heading_collapsed": true
   },
   "source": [
    "# Bash and Git"
   ]
  },
  {
   "cell_type": "code",
   "execution_count": null,
   "metadata": {
    "hidden": true
   },
   "outputs": [],
   "source": [
    "# After opening terminal, navigate to desired location\n",
    "cd Documents/Flatiron\n",
    "\n",
    "# Then, launch jupyter notebook by typing jupyter notebook\n",
    "\n",
    "# Open a new terminal window and enter following commands to save:\n",
    "git add .\n",
    "git commit -m 'enter message'\n",
    "git push\n",
    "\n",
    "# To check status of git repository (to see if anything was updated):\n",
    "git status\n",
    "\n",
    "# When you encounter a version error (yellow error message):\n",
    "git pull\n",
    ":wq\n",
    "    \n",
    "# To return to base environment:\n",
    "conda activate"
   ]
  },
  {
   "cell_type": "code",
   "execution_count": null,
   "metadata": {
    "hidden": true
   },
   "outputs": [],
   "source": []
  },
  {
   "cell_type": "code",
   "execution_count": null,
   "metadata": {
    "hidden": true
   },
   "outputs": [],
   "source": []
  },
  {
   "cell_type": "code",
   "execution_count": null,
   "metadata": {
    "hidden": true
   },
   "outputs": [],
   "source": []
  },
  {
   "cell_type": "markdown",
   "metadata": {
    "heading_collapsed": true
   },
   "source": [
    "# Pandas DataFrames"
   ]
  },
  {
   "cell_type": "code",
   "execution_count": 10,
   "metadata": {
    "hidden": true
   },
   "outputs": [],
   "source": [
    "import pandas as pd"
   ]
  },
  {
   "cell_type": "code",
   "execution_count": null,
   "metadata": {
    "hidden": true
   },
   "outputs": [],
   "source": [
    "# Data extraction/prep/etc."
   ]
  },
  {
   "cell_type": "markdown",
   "metadata": {
    "hidden": true
   },
   "source": [
    "## Importing and Exporting DataFrames:"
   ]
  },
  {
   "cell_type": "code",
   "execution_count": null,
   "metadata": {
    "hidden": true
   },
   "outputs": [],
   "source": [
    "# Importing\n",
    "pd.read_csv('')  # Not only csv, but for any plain-text delimited file, such as psv and tsv\n",
    "pd.read_excel()\n",
    "pd.read_json()\n",
    "pd.DataFrame.from_dict()\n",
    "\n",
    "# Exporting\n",
    "df.to_csv(\"\")\n",
    "df.to_excel()\n",
    "df.to_json()\n",
    "df.to_dict()"
   ]
  },
  {
   "cell_type": "code",
   "execution_count": null,
   "metadata": {
    "hidden": true
   },
   "outputs": [],
   "source": [
    "# Skipping & Limiting rows:\n",
    "pd.read_csv('asdf', nrows=100, skiprows=1) # Import the first 100 rows of the file, while skipping the first row.\n",
    "\n",
    "# Sepecifying row containing column names:\n",
    "pd.read_csv('asdf', header=1, encoding='latin-1') # Header specifies the row where column names are.\n",
    "# If encoding error, use encoding: either 'utf-8' or 'latin-1'\n",
    "\n",
    "# Selecting specific columns to read:\n",
    "pd.read_csv('asdf', usecols=['write indexes or column names as a list of items'], encoding='latin-1')\n",
    "\n",
    "# Selecting specific sheets\n",
    "pd.read_excel('asdf.xlsx', sheet_name=2, header=2) # instead of sheet index, can give the name in quotes.\n",
    "\n",
    "# misc.\n",
    "pd.read_csv('foldername/filename', index=False, sep='\\t') # include sep='\\t' for tsv files."
   ]
  },
  {
   "cell_type": "code",
   "execution_count": 20,
   "metadata": {
    "hidden": true
   },
   "outputs": [
    {
     "data": {
      "text/html": [
       "<div>\n",
       "<style scoped>\n",
       "    .dataframe tbody tr th:only-of-type {\n",
       "        vertical-align: middle;\n",
       "    }\n",
       "\n",
       "    .dataframe tbody tr th {\n",
       "        vertical-align: top;\n",
       "    }\n",
       "\n",
       "    .dataframe thead th {\n",
       "        text-align: right;\n",
       "    }\n",
       "</style>\n",
       "<table border=\"1\" class=\"dataframe\">\n",
       "  <thead>\n",
       "    <tr style=\"text-align: right;\">\n",
       "      <th></th>\n",
       "      <th>Team</th>\n",
       "      <th>Goals</th>\n",
       "      <th>Shots on target</th>\n",
       "      <th>Shots off target</th>\n",
       "      <th>Shooting Accuracy</th>\n",
       "      <th>% Goals-to-shots</th>\n",
       "      <th>Total shots (inc. Blocked)</th>\n",
       "      <th>Hit Woodwork</th>\n",
       "      <th>Penalty goals</th>\n",
       "      <th>Penalties not scored</th>\n",
       "      <th>...</th>\n",
       "      <th>Saves made</th>\n",
       "      <th>Saves-to-shots ratio</th>\n",
       "      <th>Fouls Won</th>\n",
       "      <th>Fouls Conceded</th>\n",
       "      <th>Offsides</th>\n",
       "      <th>Yellow Cards</th>\n",
       "      <th>Red Cards</th>\n",
       "      <th>Subs on</th>\n",
       "      <th>Subs off</th>\n",
       "      <th>Players Used</th>\n",
       "    </tr>\n",
       "  </thead>\n",
       "  <tbody>\n",
       "    <tr>\n",
       "      <th>0</th>\n",
       "      <td>Croatia</td>\n",
       "      <td>4</td>\n",
       "      <td>13</td>\n",
       "      <td>12</td>\n",
       "      <td>51.9%</td>\n",
       "      <td>16.0%</td>\n",
       "      <td>32</td>\n",
       "      <td>0</td>\n",
       "      <td>0</td>\n",
       "      <td>0</td>\n",
       "      <td>...</td>\n",
       "      <td>13</td>\n",
       "      <td>81.3%</td>\n",
       "      <td>41</td>\n",
       "      <td>62</td>\n",
       "      <td>2</td>\n",
       "      <td>9</td>\n",
       "      <td>0</td>\n",
       "      <td>9</td>\n",
       "      <td>9</td>\n",
       "      <td>16</td>\n",
       "    </tr>\n",
       "    <tr>\n",
       "      <th>1</th>\n",
       "      <td>Czech Republic</td>\n",
       "      <td>4</td>\n",
       "      <td>13</td>\n",
       "      <td>18</td>\n",
       "      <td>41.9%</td>\n",
       "      <td>12.9%</td>\n",
       "      <td>39</td>\n",
       "      <td>0</td>\n",
       "      <td>0</td>\n",
       "      <td>0</td>\n",
       "      <td>...</td>\n",
       "      <td>9</td>\n",
       "      <td>60.1%</td>\n",
       "      <td>53</td>\n",
       "      <td>73</td>\n",
       "      <td>8</td>\n",
       "      <td>7</td>\n",
       "      <td>0</td>\n",
       "      <td>11</td>\n",
       "      <td>11</td>\n",
       "      <td>19</td>\n",
       "    </tr>\n",
       "    <tr>\n",
       "      <th>2</th>\n",
       "      <td>Denmark</td>\n",
       "      <td>4</td>\n",
       "      <td>10</td>\n",
       "      <td>10</td>\n",
       "      <td>50.0%</td>\n",
       "      <td>20.0%</td>\n",
       "      <td>27</td>\n",
       "      <td>1</td>\n",
       "      <td>0</td>\n",
       "      <td>0</td>\n",
       "      <td>...</td>\n",
       "      <td>10</td>\n",
       "      <td>66.7%</td>\n",
       "      <td>25</td>\n",
       "      <td>38</td>\n",
       "      <td>8</td>\n",
       "      <td>4</td>\n",
       "      <td>0</td>\n",
       "      <td>7</td>\n",
       "      <td>7</td>\n",
       "      <td>15</td>\n",
       "    </tr>\n",
       "    <tr>\n",
       "      <th>3</th>\n",
       "      <td>England</td>\n",
       "      <td>5</td>\n",
       "      <td>11</td>\n",
       "      <td>18</td>\n",
       "      <td>50.0%</td>\n",
       "      <td>17.2%</td>\n",
       "      <td>40</td>\n",
       "      <td>0</td>\n",
       "      <td>0</td>\n",
       "      <td>0</td>\n",
       "      <td>...</td>\n",
       "      <td>22</td>\n",
       "      <td>88.1%</td>\n",
       "      <td>43</td>\n",
       "      <td>45</td>\n",
       "      <td>6</td>\n",
       "      <td>5</td>\n",
       "      <td>0</td>\n",
       "      <td>11</td>\n",
       "      <td>11</td>\n",
       "      <td>16</td>\n",
       "    </tr>\n",
       "    <tr>\n",
       "      <th>4</th>\n",
       "      <td>France</td>\n",
       "      <td>3</td>\n",
       "      <td>22</td>\n",
       "      <td>24</td>\n",
       "      <td>37.9%</td>\n",
       "      <td>6.5%</td>\n",
       "      <td>65</td>\n",
       "      <td>1</td>\n",
       "      <td>0</td>\n",
       "      <td>0</td>\n",
       "      <td>...</td>\n",
       "      <td>6</td>\n",
       "      <td>54.6%</td>\n",
       "      <td>36</td>\n",
       "      <td>51</td>\n",
       "      <td>5</td>\n",
       "      <td>6</td>\n",
       "      <td>0</td>\n",
       "      <td>11</td>\n",
       "      <td>11</td>\n",
       "      <td>19</td>\n",
       "    </tr>\n",
       "    <tr>\n",
       "      <th>5</th>\n",
       "      <td>Germany</td>\n",
       "      <td>10</td>\n",
       "      <td>32</td>\n",
       "      <td>32</td>\n",
       "      <td>47.8%</td>\n",
       "      <td>15.6%</td>\n",
       "      <td>80</td>\n",
       "      <td>2</td>\n",
       "      <td>1</td>\n",
       "      <td>0</td>\n",
       "      <td>...</td>\n",
       "      <td>10</td>\n",
       "      <td>62.6%</td>\n",
       "      <td>63</td>\n",
       "      <td>49</td>\n",
       "      <td>12</td>\n",
       "      <td>4</td>\n",
       "      <td>0</td>\n",
       "      <td>15</td>\n",
       "      <td>15</td>\n",
       "      <td>17</td>\n",
       "    </tr>\n",
       "    <tr>\n",
       "      <th>6</th>\n",
       "      <td>Greece</td>\n",
       "      <td>5</td>\n",
       "      <td>8</td>\n",
       "      <td>18</td>\n",
       "      <td>30.7%</td>\n",
       "      <td>19.2%</td>\n",
       "      <td>32</td>\n",
       "      <td>1</td>\n",
       "      <td>1</td>\n",
       "      <td>1</td>\n",
       "      <td>...</td>\n",
       "      <td>13</td>\n",
       "      <td>65.1%</td>\n",
       "      <td>67</td>\n",
       "      <td>48</td>\n",
       "      <td>12</td>\n",
       "      <td>9</td>\n",
       "      <td>1</td>\n",
       "      <td>12</td>\n",
       "      <td>12</td>\n",
       "      <td>20</td>\n",
       "    </tr>\n",
       "    <tr>\n",
       "      <th>7</th>\n",
       "      <td>Italy</td>\n",
       "      <td>6</td>\n",
       "      <td>34</td>\n",
       "      <td>45</td>\n",
       "      <td>43.0%</td>\n",
       "      <td>7.5%</td>\n",
       "      <td>110</td>\n",
       "      <td>2</td>\n",
       "      <td>0</td>\n",
       "      <td>0</td>\n",
       "      <td>...</td>\n",
       "      <td>20</td>\n",
       "      <td>74.1%</td>\n",
       "      <td>101</td>\n",
       "      <td>89</td>\n",
       "      <td>16</td>\n",
       "      <td>16</td>\n",
       "      <td>0</td>\n",
       "      <td>18</td>\n",
       "      <td>18</td>\n",
       "      <td>19</td>\n",
       "    </tr>\n",
       "    <tr>\n",
       "      <th>8</th>\n",
       "      <td>Netherlands</td>\n",
       "      <td>2</td>\n",
       "      <td>12</td>\n",
       "      <td>36</td>\n",
       "      <td>25.0%</td>\n",
       "      <td>4.1%</td>\n",
       "      <td>60</td>\n",
       "      <td>2</td>\n",
       "      <td>0</td>\n",
       "      <td>0</td>\n",
       "      <td>...</td>\n",
       "      <td>12</td>\n",
       "      <td>70.6%</td>\n",
       "      <td>35</td>\n",
       "      <td>30</td>\n",
       "      <td>3</td>\n",
       "      <td>5</td>\n",
       "      <td>0</td>\n",
       "      <td>7</td>\n",
       "      <td>7</td>\n",
       "      <td>15</td>\n",
       "    </tr>\n",
       "    <tr>\n",
       "      <th>9</th>\n",
       "      <td>Poland</td>\n",
       "      <td>2</td>\n",
       "      <td>15</td>\n",
       "      <td>23</td>\n",
       "      <td>39.4%</td>\n",
       "      <td>5.2%</td>\n",
       "      <td>48</td>\n",
       "      <td>0</td>\n",
       "      <td>0</td>\n",
       "      <td>0</td>\n",
       "      <td>...</td>\n",
       "      <td>6</td>\n",
       "      <td>66.7%</td>\n",
       "      <td>48</td>\n",
       "      <td>56</td>\n",
       "      <td>3</td>\n",
       "      <td>7</td>\n",
       "      <td>1</td>\n",
       "      <td>7</td>\n",
       "      <td>7</td>\n",
       "      <td>17</td>\n",
       "    </tr>\n",
       "    <tr>\n",
       "      <th>10</th>\n",
       "      <td>Portugal</td>\n",
       "      <td>6</td>\n",
       "      <td>22</td>\n",
       "      <td>42</td>\n",
       "      <td>34.3%</td>\n",
       "      <td>9.3%</td>\n",
       "      <td>82</td>\n",
       "      <td>6</td>\n",
       "      <td>0</td>\n",
       "      <td>0</td>\n",
       "      <td>...</td>\n",
       "      <td>10</td>\n",
       "      <td>71.5%</td>\n",
       "      <td>73</td>\n",
       "      <td>90</td>\n",
       "      <td>10</td>\n",
       "      <td>12</td>\n",
       "      <td>0</td>\n",
       "      <td>14</td>\n",
       "      <td>14</td>\n",
       "      <td>16</td>\n",
       "    </tr>\n",
       "    <tr>\n",
       "      <th>11</th>\n",
       "      <td>Republic of Ireland</td>\n",
       "      <td>1</td>\n",
       "      <td>7</td>\n",
       "      <td>12</td>\n",
       "      <td>36.8%</td>\n",
       "      <td>5.2%</td>\n",
       "      <td>28</td>\n",
       "      <td>0</td>\n",
       "      <td>0</td>\n",
       "      <td>0</td>\n",
       "      <td>...</td>\n",
       "      <td>17</td>\n",
       "      <td>65.4%</td>\n",
       "      <td>43</td>\n",
       "      <td>51</td>\n",
       "      <td>11</td>\n",
       "      <td>6</td>\n",
       "      <td>1</td>\n",
       "      <td>10</td>\n",
       "      <td>10</td>\n",
       "      <td>17</td>\n",
       "    </tr>\n",
       "    <tr>\n",
       "      <th>12</th>\n",
       "      <td>Russia</td>\n",
       "      <td>5</td>\n",
       "      <td>9</td>\n",
       "      <td>31</td>\n",
       "      <td>22.5%</td>\n",
       "      <td>12.5%</td>\n",
       "      <td>59</td>\n",
       "      <td>2</td>\n",
       "      <td>0</td>\n",
       "      <td>0</td>\n",
       "      <td>...</td>\n",
       "      <td>10</td>\n",
       "      <td>77.0%</td>\n",
       "      <td>34</td>\n",
       "      <td>43</td>\n",
       "      <td>4</td>\n",
       "      <td>6</td>\n",
       "      <td>0</td>\n",
       "      <td>7</td>\n",
       "      <td>7</td>\n",
       "      <td>16</td>\n",
       "    </tr>\n",
       "    <tr>\n",
       "      <th>13</th>\n",
       "      <td>Spain</td>\n",
       "      <td>12</td>\n",
       "      <td>42</td>\n",
       "      <td>33</td>\n",
       "      <td>55.9%</td>\n",
       "      <td>16.0%</td>\n",
       "      <td>100</td>\n",
       "      <td>0</td>\n",
       "      <td>1</td>\n",
       "      <td>0</td>\n",
       "      <td>...</td>\n",
       "      <td>15</td>\n",
       "      <td>93.8%</td>\n",
       "      <td>102</td>\n",
       "      <td>83</td>\n",
       "      <td>19</td>\n",
       "      <td>11</td>\n",
       "      <td>0</td>\n",
       "      <td>17</td>\n",
       "      <td>17</td>\n",
       "      <td>18</td>\n",
       "    </tr>\n",
       "    <tr>\n",
       "      <th>14</th>\n",
       "      <td>Sweden</td>\n",
       "      <td>5</td>\n",
       "      <td>17</td>\n",
       "      <td>19</td>\n",
       "      <td>47.2%</td>\n",
       "      <td>13.8%</td>\n",
       "      <td>39</td>\n",
       "      <td>3</td>\n",
       "      <td>0</td>\n",
       "      <td>0</td>\n",
       "      <td>...</td>\n",
       "      <td>8</td>\n",
       "      <td>61.6%</td>\n",
       "      <td>35</td>\n",
       "      <td>51</td>\n",
       "      <td>7</td>\n",
       "      <td>7</td>\n",
       "      <td>0</td>\n",
       "      <td>9</td>\n",
       "      <td>9</td>\n",
       "      <td>18</td>\n",
       "    </tr>\n",
       "    <tr>\n",
       "      <th>15</th>\n",
       "      <td>Ukraine</td>\n",
       "      <td>2</td>\n",
       "      <td>7</td>\n",
       "      <td>26</td>\n",
       "      <td>21.2%</td>\n",
       "      <td>6.0%</td>\n",
       "      <td>38</td>\n",
       "      <td>0</td>\n",
       "      <td>0</td>\n",
       "      <td>0</td>\n",
       "      <td>...</td>\n",
       "      <td>13</td>\n",
       "      <td>76.5%</td>\n",
       "      <td>48</td>\n",
       "      <td>31</td>\n",
       "      <td>4</td>\n",
       "      <td>5</td>\n",
       "      <td>0</td>\n",
       "      <td>9</td>\n",
       "      <td>9</td>\n",
       "      <td>18</td>\n",
       "    </tr>\n",
       "  </tbody>\n",
       "</table>\n",
       "<p>16 rows × 35 columns</p>\n",
       "</div>"
      ],
      "text/plain": [
       "                   Team  Goals  Shots on target  Shots off target  \\\n",
       "0               Croatia      4               13                12   \n",
       "1        Czech Republic      4               13                18   \n",
       "2               Denmark      4               10                10   \n",
       "3               England      5               11                18   \n",
       "4                France      3               22                24   \n",
       "5               Germany     10               32                32   \n",
       "6                Greece      5                8                18   \n",
       "7                 Italy      6               34                45   \n",
       "8           Netherlands      2               12                36   \n",
       "9                Poland      2               15                23   \n",
       "10             Portugal      6               22                42   \n",
       "11  Republic of Ireland      1                7                12   \n",
       "12               Russia      5                9                31   \n",
       "13                Spain     12               42                33   \n",
       "14               Sweden      5               17                19   \n",
       "15              Ukraine      2                7                26   \n",
       "\n",
       "   Shooting Accuracy % Goals-to-shots  Total shots (inc. Blocked)  \\\n",
       "0              51.9%            16.0%                          32   \n",
       "1              41.9%            12.9%                          39   \n",
       "2              50.0%            20.0%                          27   \n",
       "3              50.0%            17.2%                          40   \n",
       "4              37.9%             6.5%                          65   \n",
       "5              47.8%            15.6%                          80   \n",
       "6              30.7%            19.2%                          32   \n",
       "7              43.0%             7.5%                         110   \n",
       "8              25.0%             4.1%                          60   \n",
       "9              39.4%             5.2%                          48   \n",
       "10             34.3%             9.3%                          82   \n",
       "11             36.8%             5.2%                          28   \n",
       "12             22.5%            12.5%                          59   \n",
       "13             55.9%            16.0%                         100   \n",
       "14             47.2%            13.8%                          39   \n",
       "15             21.2%             6.0%                          38   \n",
       "\n",
       "    Hit Woodwork  Penalty goals  Penalties not scored  ...  Saves made  \\\n",
       "0              0              0                     0  ...          13   \n",
       "1              0              0                     0  ...           9   \n",
       "2              1              0                     0  ...          10   \n",
       "3              0              0                     0  ...          22   \n",
       "4              1              0                     0  ...           6   \n",
       "5              2              1                     0  ...          10   \n",
       "6              1              1                     1  ...          13   \n",
       "7              2              0                     0  ...          20   \n",
       "8              2              0                     0  ...          12   \n",
       "9              0              0                     0  ...           6   \n",
       "10             6              0                     0  ...          10   \n",
       "11             0              0                     0  ...          17   \n",
       "12             2              0                     0  ...          10   \n",
       "13             0              1                     0  ...          15   \n",
       "14             3              0                     0  ...           8   \n",
       "15             0              0                     0  ...          13   \n",
       "\n",
       "    Saves-to-shots ratio  Fouls Won Fouls Conceded  Offsides  Yellow Cards  \\\n",
       "0                  81.3%         41             62         2             9   \n",
       "1                  60.1%         53             73         8             7   \n",
       "2                  66.7%         25             38         8             4   \n",
       "3                  88.1%         43             45         6             5   \n",
       "4                  54.6%         36             51         5             6   \n",
       "5                  62.6%         63             49        12             4   \n",
       "6                  65.1%         67             48        12             9   \n",
       "7                  74.1%        101             89        16            16   \n",
       "8                  70.6%         35             30         3             5   \n",
       "9                  66.7%         48             56         3             7   \n",
       "10                 71.5%         73             90        10            12   \n",
       "11                 65.4%         43             51        11             6   \n",
       "12                 77.0%         34             43         4             6   \n",
       "13                 93.8%        102             83        19            11   \n",
       "14                 61.6%         35             51         7             7   \n",
       "15                 76.5%         48             31         4             5   \n",
       "\n",
       "    Red Cards  Subs on  Subs off  Players Used  \n",
       "0           0        9         9            16  \n",
       "1           0       11        11            19  \n",
       "2           0        7         7            15  \n",
       "3           0       11        11            16  \n",
       "4           0       11        11            19  \n",
       "5           0       15        15            17  \n",
       "6           1       12        12            20  \n",
       "7           0       18        18            19  \n",
       "8           0        7         7            15  \n",
       "9           1        7         7            17  \n",
       "10          0       14        14            16  \n",
       "11          1       10        10            17  \n",
       "12          0        7         7            16  \n",
       "13          0       17        17            18  \n",
       "14          0        9         9            18  \n",
       "15          0        9         9            18  \n",
       "\n",
       "[16 rows x 35 columns]"
      ]
     },
     "execution_count": 20,
     "metadata": {},
     "output_type": "execute_result"
    }
   ],
   "source": [
    "df = pd.read_csv('https://raw.githubusercontent.com/guipsamora/pandas_exercises/master/02_Filtering_%26_Sorting/Euro12/Euro_2012_stats_TEAM.csv')\n",
    "df"
   ]
  },
  {
   "cell_type": "markdown",
   "metadata": {
    "hidden": true
   },
   "source": [
    "## Methods - contains ()"
   ]
  },
  {
   "cell_type": "code",
   "execution_count": 4,
   "metadata": {
    "collapsed": true,
    "hidden": true
   },
   "outputs": [
    {
     "name": "stdout",
     "output_type": "stream",
     "text": [
      "<class 'pandas.core.frame.DataFrame'>\n",
      "RangeIndex: 16 entries, 0 to 15\n",
      "Data columns (total 35 columns):\n",
      "Team                          16 non-null object\n",
      "Goals                         16 non-null int64\n",
      "Shots on target               16 non-null int64\n",
      "Shots off target              16 non-null int64\n",
      "Shooting Accuracy             16 non-null object\n",
      "% Goals-to-shots              16 non-null object\n",
      "Total shots (inc. Blocked)    16 non-null int64\n",
      "Hit Woodwork                  16 non-null int64\n",
      "Penalty goals                 16 non-null int64\n",
      "Penalties not scored          16 non-null int64\n",
      "Headed goals                  16 non-null int64\n",
      "Passes                        16 non-null int64\n",
      "Passes completed              16 non-null int64\n",
      "Passing Accuracy              16 non-null object\n",
      "Touches                       16 non-null int64\n",
      "Crosses                       16 non-null int64\n",
      "Dribbles                      16 non-null int64\n",
      "Corners Taken                 16 non-null int64\n",
      "Tackles                       16 non-null int64\n",
      "Clearances                    16 non-null int64\n",
      "Interceptions                 16 non-null int64\n",
      "Clearances off line           15 non-null float64\n",
      "Clean Sheets                  16 non-null int64\n",
      "Blocks                        16 non-null int64\n",
      "Goals conceded                16 non-null int64\n",
      "Saves made                    16 non-null int64\n",
      "Saves-to-shots ratio          16 non-null object\n",
      "Fouls Won                     16 non-null int64\n",
      "Fouls Conceded                16 non-null int64\n",
      "Offsides                      16 non-null int64\n",
      "Yellow Cards                  16 non-null int64\n",
      "Red Cards                     16 non-null int64\n",
      "Subs on                       16 non-null int64\n",
      "Subs off                      16 non-null int64\n",
      "Players Used                  16 non-null int64\n",
      "dtypes: float64(1), int64(29), object(5)\n",
      "memory usage: 4.5+ KB\n"
     ]
    },
    {
     "data": {
      "text/html": [
       "<div>\n",
       "<style scoped>\n",
       "    .dataframe tbody tr th:only-of-type {\n",
       "        vertical-align: middle;\n",
       "    }\n",
       "\n",
       "    .dataframe tbody tr th {\n",
       "        vertical-align: top;\n",
       "    }\n",
       "\n",
       "    .dataframe thead th {\n",
       "        text-align: right;\n",
       "    }\n",
       "</style>\n",
       "<table border=\"1\" class=\"dataframe\">\n",
       "  <thead>\n",
       "    <tr style=\"text-align: right;\">\n",
       "      <th></th>\n",
       "      <th>Goals</th>\n",
       "      <th>Shots on target</th>\n",
       "      <th>Shots off target</th>\n",
       "      <th>Total shots (inc. Blocked)</th>\n",
       "      <th>Hit Woodwork</th>\n",
       "      <th>Penalty goals</th>\n",
       "      <th>Penalties not scored</th>\n",
       "      <th>Headed goals</th>\n",
       "      <th>Passes</th>\n",
       "      <th>Passes completed</th>\n",
       "      <th>...</th>\n",
       "      <th>Goals conceded</th>\n",
       "      <th>Saves made</th>\n",
       "      <th>Fouls Won</th>\n",
       "      <th>Fouls Conceded</th>\n",
       "      <th>Offsides</th>\n",
       "      <th>Yellow Cards</th>\n",
       "      <th>Red Cards</th>\n",
       "      <th>Subs on</th>\n",
       "      <th>Subs off</th>\n",
       "      <th>Players Used</th>\n",
       "    </tr>\n",
       "  </thead>\n",
       "  <tbody>\n",
       "    <tr>\n",
       "      <th>count</th>\n",
       "      <td>16.000000</td>\n",
       "      <td>16.000000</td>\n",
       "      <td>16.000000</td>\n",
       "      <td>16.000000</td>\n",
       "      <td>16.000000</td>\n",
       "      <td>16.000000</td>\n",
       "      <td>16.0000</td>\n",
       "      <td>16.000000</td>\n",
       "      <td>16.000000</td>\n",
       "      <td>16.000000</td>\n",
       "      <td>...</td>\n",
       "      <td>16.000000</td>\n",
       "      <td>16.000000</td>\n",
       "      <td>16.000000</td>\n",
       "      <td>16.000000</td>\n",
       "      <td>16.000000</td>\n",
       "      <td>16.000000</td>\n",
       "      <td>16.000000</td>\n",
       "      <td>16.00000</td>\n",
       "      <td>16.00000</td>\n",
       "      <td>16.000000</td>\n",
       "    </tr>\n",
       "    <tr>\n",
       "      <th>mean</th>\n",
       "      <td>4.750000</td>\n",
       "      <td>17.125000</td>\n",
       "      <td>24.937500</td>\n",
       "      <td>54.937500</td>\n",
       "      <td>1.250000</td>\n",
       "      <td>0.187500</td>\n",
       "      <td>0.0625</td>\n",
       "      <td>1.375000</td>\n",
       "      <td>1763.375000</td>\n",
       "      <td>1467.375000</td>\n",
       "      <td>...</td>\n",
       "      <td>4.750000</td>\n",
       "      <td>12.125000</td>\n",
       "      <td>52.937500</td>\n",
       "      <td>55.625000</td>\n",
       "      <td>8.125000</td>\n",
       "      <td>7.437500</td>\n",
       "      <td>0.187500</td>\n",
       "      <td>10.87500</td>\n",
       "      <td>10.87500</td>\n",
       "      <td>17.250000</td>\n",
       "    </tr>\n",
       "    <tr>\n",
       "      <th>std</th>\n",
       "      <td>2.886751</td>\n",
       "      <td>10.582218</td>\n",
       "      <td>10.680005</td>\n",
       "      <td>26.065223</td>\n",
       "      <td>1.612452</td>\n",
       "      <td>0.403113</td>\n",
       "      <td>0.2500</td>\n",
       "      <td>1.024695</td>\n",
       "      <td>906.177898</td>\n",
       "      <td>827.580721</td>\n",
       "      <td>...</td>\n",
       "      <td>1.983263</td>\n",
       "      <td>4.573474</td>\n",
       "      <td>22.915697</td>\n",
       "      <td>18.973227</td>\n",
       "      <td>4.910872</td>\n",
       "      <td>3.265348</td>\n",
       "      <td>0.403113</td>\n",
       "      <td>3.53789</td>\n",
       "      <td>3.53789</td>\n",
       "      <td>1.527525</td>\n",
       "    </tr>\n",
       "    <tr>\n",
       "      <th>min</th>\n",
       "      <td>1.000000</td>\n",
       "      <td>7.000000</td>\n",
       "      <td>10.000000</td>\n",
       "      <td>27.000000</td>\n",
       "      <td>0.000000</td>\n",
       "      <td>0.000000</td>\n",
       "      <td>0.0000</td>\n",
       "      <td>0.000000</td>\n",
       "      <td>851.000000</td>\n",
       "      <td>606.000000</td>\n",
       "      <td>...</td>\n",
       "      <td>1.000000</td>\n",
       "      <td>6.000000</td>\n",
       "      <td>25.000000</td>\n",
       "      <td>30.000000</td>\n",
       "      <td>2.000000</td>\n",
       "      <td>4.000000</td>\n",
       "      <td>0.000000</td>\n",
       "      <td>7.00000</td>\n",
       "      <td>7.00000</td>\n",
       "      <td>15.000000</td>\n",
       "    </tr>\n",
       "    <tr>\n",
       "      <th>25%</th>\n",
       "      <td>2.750000</td>\n",
       "      <td>9.750000</td>\n",
       "      <td>18.000000</td>\n",
       "      <td>36.500000</td>\n",
       "      <td>0.000000</td>\n",
       "      <td>0.000000</td>\n",
       "      <td>0.0000</td>\n",
       "      <td>0.750000</td>\n",
       "      <td>1190.750000</td>\n",
       "      <td>951.500000</td>\n",
       "      <td>...</td>\n",
       "      <td>3.000000</td>\n",
       "      <td>9.750000</td>\n",
       "      <td>35.750000</td>\n",
       "      <td>44.500000</td>\n",
       "      <td>4.000000</td>\n",
       "      <td>5.000000</td>\n",
       "      <td>0.000000</td>\n",
       "      <td>8.50000</td>\n",
       "      <td>8.50000</td>\n",
       "      <td>16.000000</td>\n",
       "    </tr>\n",
       "    <tr>\n",
       "      <th>50%</th>\n",
       "      <td>4.500000</td>\n",
       "      <td>13.000000</td>\n",
       "      <td>23.500000</td>\n",
       "      <td>44.000000</td>\n",
       "      <td>1.000000</td>\n",
       "      <td>0.000000</td>\n",
       "      <td>0.0000</td>\n",
       "      <td>1.500000</td>\n",
       "      <td>1522.000000</td>\n",
       "      <td>1211.500000</td>\n",
       "      <td>...</td>\n",
       "      <td>5.000000</td>\n",
       "      <td>11.000000</td>\n",
       "      <td>45.500000</td>\n",
       "      <td>51.000000</td>\n",
       "      <td>7.500000</td>\n",
       "      <td>6.500000</td>\n",
       "      <td>0.000000</td>\n",
       "      <td>10.50000</td>\n",
       "      <td>10.50000</td>\n",
       "      <td>17.000000</td>\n",
       "    </tr>\n",
       "    <tr>\n",
       "      <th>75%</th>\n",
       "      <td>5.250000</td>\n",
       "      <td>22.000000</td>\n",
       "      <td>32.250000</td>\n",
       "      <td>68.750000</td>\n",
       "      <td>2.000000</td>\n",
       "      <td>0.000000</td>\n",
       "      <td>0.0000</td>\n",
       "      <td>2.000000</td>\n",
       "      <td>1934.750000</td>\n",
       "      <td>1546.500000</td>\n",
       "      <td>...</td>\n",
       "      <td>6.000000</td>\n",
       "      <td>13.500000</td>\n",
       "      <td>64.000000</td>\n",
       "      <td>64.750000</td>\n",
       "      <td>11.250000</td>\n",
       "      <td>9.000000</td>\n",
       "      <td>0.000000</td>\n",
       "      <td>12.50000</td>\n",
       "      <td>12.50000</td>\n",
       "      <td>18.250000</td>\n",
       "    </tr>\n",
       "    <tr>\n",
       "      <th>max</th>\n",
       "      <td>12.000000</td>\n",
       "      <td>42.000000</td>\n",
       "      <td>45.000000</td>\n",
       "      <td>110.000000</td>\n",
       "      <td>6.000000</td>\n",
       "      <td>1.000000</td>\n",
       "      <td>1.0000</td>\n",
       "      <td>3.000000</td>\n",
       "      <td>4317.000000</td>\n",
       "      <td>3820.000000</td>\n",
       "      <td>...</td>\n",
       "      <td>9.000000</td>\n",
       "      <td>22.000000</td>\n",
       "      <td>102.000000</td>\n",
       "      <td>90.000000</td>\n",
       "      <td>19.000000</td>\n",
       "      <td>16.000000</td>\n",
       "      <td>1.000000</td>\n",
       "      <td>18.00000</td>\n",
       "      <td>18.00000</td>\n",
       "      <td>20.000000</td>\n",
       "    </tr>\n",
       "  </tbody>\n",
       "</table>\n",
       "<p>8 rows × 30 columns</p>\n",
       "</div>"
      ],
      "text/plain": [
       "           Goals  Shots on target  Shots off target  \\\n",
       "count  16.000000        16.000000         16.000000   \n",
       "mean    4.750000        17.125000         24.937500   \n",
       "std     2.886751        10.582218         10.680005   \n",
       "min     1.000000         7.000000         10.000000   \n",
       "25%     2.750000         9.750000         18.000000   \n",
       "50%     4.500000        13.000000         23.500000   \n",
       "75%     5.250000        22.000000         32.250000   \n",
       "max    12.000000        42.000000         45.000000   \n",
       "\n",
       "       Total shots (inc. Blocked)  Hit Woodwork  Penalty goals  \\\n",
       "count                   16.000000     16.000000      16.000000   \n",
       "mean                    54.937500      1.250000       0.187500   \n",
       "std                     26.065223      1.612452       0.403113   \n",
       "min                     27.000000      0.000000       0.000000   \n",
       "25%                     36.500000      0.000000       0.000000   \n",
       "50%                     44.000000      1.000000       0.000000   \n",
       "75%                     68.750000      2.000000       0.000000   \n",
       "max                    110.000000      6.000000       1.000000   \n",
       "\n",
       "       Penalties not scored  Headed goals       Passes  Passes completed  ...  \\\n",
       "count               16.0000     16.000000    16.000000         16.000000  ...   \n",
       "mean                 0.0625      1.375000  1763.375000       1467.375000  ...   \n",
       "std                  0.2500      1.024695   906.177898        827.580721  ...   \n",
       "min                  0.0000      0.000000   851.000000        606.000000  ...   \n",
       "25%                  0.0000      0.750000  1190.750000        951.500000  ...   \n",
       "50%                  0.0000      1.500000  1522.000000       1211.500000  ...   \n",
       "75%                  0.0000      2.000000  1934.750000       1546.500000  ...   \n",
       "max                  1.0000      3.000000  4317.000000       3820.000000  ...   \n",
       "\n",
       "       Goals conceded  Saves made   Fouls Won  Fouls Conceded   Offsides  \\\n",
       "count       16.000000   16.000000   16.000000       16.000000  16.000000   \n",
       "mean         4.750000   12.125000   52.937500       55.625000   8.125000   \n",
       "std          1.983263    4.573474   22.915697       18.973227   4.910872   \n",
       "min          1.000000    6.000000   25.000000       30.000000   2.000000   \n",
       "25%          3.000000    9.750000   35.750000       44.500000   4.000000   \n",
       "50%          5.000000   11.000000   45.500000       51.000000   7.500000   \n",
       "75%          6.000000   13.500000   64.000000       64.750000  11.250000   \n",
       "max          9.000000   22.000000  102.000000       90.000000  19.000000   \n",
       "\n",
       "       Yellow Cards  Red Cards   Subs on  Subs off  Players Used  \n",
       "count     16.000000  16.000000  16.00000  16.00000     16.000000  \n",
       "mean       7.437500   0.187500  10.87500  10.87500     17.250000  \n",
       "std        3.265348   0.403113   3.53789   3.53789      1.527525  \n",
       "min        4.000000   0.000000   7.00000   7.00000     15.000000  \n",
       "25%        5.000000   0.000000   8.50000   8.50000     16.000000  \n",
       "50%        6.500000   0.000000  10.50000  10.50000     17.000000  \n",
       "75%        9.000000   0.000000  12.50000  12.50000     18.250000  \n",
       "max       16.000000   1.000000  18.00000  18.00000     20.000000  \n",
       "\n",
       "[8 rows x 30 columns]"
      ]
     },
     "execution_count": 4,
     "metadata": {},
     "output_type": "execute_result"
    }
   ],
   "source": [
    "df.head()  # Prints the first n rows (default=5)\n",
    "df.tail()  # Prints the last n rows (default=5)\n",
    "df.info()  # Gives number of non-null values of each col. along with their data types.\n",
    "df.describe()  # Gives basic stats about each col, as long as they are int/float datatype.\n",
    "\n",
    "df.isna()  # \"Boolean Mask\" of df, returns True if value is null, otherwise False.\n",
    "df.isna().sum()  # Gives counts of null values per column.\n",
    "df.isna().sum().sum()  # Gives total null value count.\n",
    "\n",
    "df.set_index('Goal')  # Sets 'Goal' column as the index of the DataFrame."
   ]
  },
  {
   "cell_type": "markdown",
   "metadata": {
    "hidden": true
   },
   "source": [
    "## Attributes - does not contain ()"
   ]
  },
  {
   "cell_type": "code",
   "execution_count": 9,
   "metadata": {
    "collapsed": true,
    "hidden": true
   },
   "outputs": [
    {
     "data": {
      "text/plain": [
       "(16, 35)"
      ]
     },
     "execution_count": 9,
     "metadata": {},
     "output_type": "execute_result"
    }
   ],
   "source": [
    "df.index  # Returns the indexes of the DataFrame as a list\n",
    "df.columns  # Returns the columns of the DataFrame as a list\n",
    "df.dtypes  # Returns the datatype of each column\n",
    "df.shape  # Returns a tuple of (#rows, #cols)"
   ]
  },
  {
   "cell_type": "markdown",
   "metadata": {
    "hidden": true
   },
   "source": [
    "## Indexing - .iloc and .loc\n",
    "- df.iloc[] \n",
    "    - Integer based indexing.\n",
    "- df.loc[]\n",
    "    - Selecting by label/index - can refer to columns as 'column_name'\n",
    "    - boolean (conditional lookup) - need to refer to columns as df['column_name']"
   ]
  },
  {
   "cell_type": "code",
   "execution_count": 12,
   "metadata": {
    "collapsed": true,
    "hidden": true
   },
   "outputs": [
    {
     "data": {
      "text/html": [
       "<div>\n",
       "<style scoped>\n",
       "    .dataframe tbody tr th:only-of-type {\n",
       "        vertical-align: middle;\n",
       "    }\n",
       "\n",
       "    .dataframe tbody tr th {\n",
       "        vertical-align: top;\n",
       "    }\n",
       "\n",
       "    .dataframe thead th {\n",
       "        text-align: right;\n",
       "    }\n",
       "</style>\n",
       "<table border=\"1\" class=\"dataframe\">\n",
       "  <thead>\n",
       "    <tr style=\"text-align: right;\">\n",
       "      <th></th>\n",
       "      <th>Team</th>\n",
       "      <th>Goals</th>\n",
       "      <th>Shots on target</th>\n",
       "      <th>Shots off target</th>\n",
       "      <th>Shooting Accuracy</th>\n",
       "      <th>% Goals-to-shots</th>\n",
       "      <th>Total shots (inc. Blocked)</th>\n",
       "      <th>Hit Woodwork</th>\n",
       "      <th>Penalty goals</th>\n",
       "      <th>Penalties not scored</th>\n",
       "      <th>...</th>\n",
       "      <th>Saves made</th>\n",
       "      <th>Saves-to-shots ratio</th>\n",
       "      <th>Fouls Won</th>\n",
       "      <th>Fouls Conceded</th>\n",
       "      <th>Offsides</th>\n",
       "      <th>Yellow Cards</th>\n",
       "      <th>Red Cards</th>\n",
       "      <th>Subs on</th>\n",
       "      <th>Subs off</th>\n",
       "      <th>Players Used</th>\n",
       "    </tr>\n",
       "  </thead>\n",
       "  <tbody>\n",
       "    <tr>\n",
       "      <th>1</th>\n",
       "      <td>Czech Republic</td>\n",
       "      <td>4</td>\n",
       "      <td>13</td>\n",
       "      <td>18</td>\n",
       "      <td>41.9%</td>\n",
       "      <td>12.9%</td>\n",
       "      <td>39</td>\n",
       "      <td>0</td>\n",
       "      <td>0</td>\n",
       "      <td>0</td>\n",
       "      <td>...</td>\n",
       "      <td>9</td>\n",
       "      <td>60.1%</td>\n",
       "      <td>53</td>\n",
       "      <td>73</td>\n",
       "      <td>8</td>\n",
       "      <td>7</td>\n",
       "      <td>0</td>\n",
       "      <td>11</td>\n",
       "      <td>11</td>\n",
       "      <td>19</td>\n",
       "    </tr>\n",
       "    <tr>\n",
       "      <th>4</th>\n",
       "      <td>France</td>\n",
       "      <td>3</td>\n",
       "      <td>22</td>\n",
       "      <td>24</td>\n",
       "      <td>37.9%</td>\n",
       "      <td>6.5%</td>\n",
       "      <td>65</td>\n",
       "      <td>1</td>\n",
       "      <td>0</td>\n",
       "      <td>0</td>\n",
       "      <td>...</td>\n",
       "      <td>6</td>\n",
       "      <td>54.6%</td>\n",
       "      <td>36</td>\n",
       "      <td>51</td>\n",
       "      <td>5</td>\n",
       "      <td>6</td>\n",
       "      <td>0</td>\n",
       "      <td>11</td>\n",
       "      <td>11</td>\n",
       "      <td>19</td>\n",
       "    </tr>\n",
       "    <tr>\n",
       "      <th>6</th>\n",
       "      <td>Greece</td>\n",
       "      <td>5</td>\n",
       "      <td>8</td>\n",
       "      <td>18</td>\n",
       "      <td>30.7%</td>\n",
       "      <td>19.2%</td>\n",
       "      <td>32</td>\n",
       "      <td>1</td>\n",
       "      <td>1</td>\n",
       "      <td>1</td>\n",
       "      <td>...</td>\n",
       "      <td>13</td>\n",
       "      <td>65.1%</td>\n",
       "      <td>67</td>\n",
       "      <td>48</td>\n",
       "      <td>12</td>\n",
       "      <td>9</td>\n",
       "      <td>1</td>\n",
       "      <td>12</td>\n",
       "      <td>12</td>\n",
       "      <td>20</td>\n",
       "    </tr>\n",
       "    <tr>\n",
       "      <th>11</th>\n",
       "      <td>Republic of Ireland</td>\n",
       "      <td>1</td>\n",
       "      <td>7</td>\n",
       "      <td>12</td>\n",
       "      <td>36.8%</td>\n",
       "      <td>5.2%</td>\n",
       "      <td>28</td>\n",
       "      <td>0</td>\n",
       "      <td>0</td>\n",
       "      <td>0</td>\n",
       "      <td>...</td>\n",
       "      <td>17</td>\n",
       "      <td>65.4%</td>\n",
       "      <td>43</td>\n",
       "      <td>51</td>\n",
       "      <td>11</td>\n",
       "      <td>6</td>\n",
       "      <td>1</td>\n",
       "      <td>10</td>\n",
       "      <td>10</td>\n",
       "      <td>17</td>\n",
       "    </tr>\n",
       "  </tbody>\n",
       "</table>\n",
       "<p>4 rows × 35 columns</p>\n",
       "</div>"
      ],
      "text/plain": [
       "                   Team  Goals  Shots on target  Shots off target  \\\n",
       "1        Czech Republic      4               13                18   \n",
       "4                France      3               22                24   \n",
       "6                Greece      5                8                18   \n",
       "11  Republic of Ireland      1                7                12   \n",
       "\n",
       "   Shooting Accuracy % Goals-to-shots  Total shots (inc. Blocked)  \\\n",
       "1              41.9%            12.9%                          39   \n",
       "4              37.9%             6.5%                          65   \n",
       "6              30.7%            19.2%                          32   \n",
       "11             36.8%             5.2%                          28   \n",
       "\n",
       "    Hit Woodwork  Penalty goals  Penalties not scored  ...  Saves made  \\\n",
       "1              0              0                     0  ...           9   \n",
       "4              1              0                     0  ...           6   \n",
       "6              1              1                     1  ...          13   \n",
       "11             0              0                     0  ...          17   \n",
       "\n",
       "    Saves-to-shots ratio  Fouls Won Fouls Conceded  Offsides  Yellow Cards  \\\n",
       "1                  60.1%         53             73         8             7   \n",
       "4                  54.6%         36             51         5             6   \n",
       "6                  65.1%         67             48        12             9   \n",
       "11                 65.4%         43             51        11             6   \n",
       "\n",
       "    Red Cards  Subs on  Subs off  Players Used  \n",
       "1           0       11        11            19  \n",
       "4           0       11        11            19  \n",
       "6           1       12        12            20  \n",
       "11          1       10        10            17  \n",
       "\n",
       "[4 rows x 35 columns]"
      ]
     },
     "execution_count": 12,
     "metadata": {},
     "output_type": "execute_result"
    }
   ],
   "source": [
    "# These methods can be used to create new values as well\n",
    "\n",
    "# df.iloc[]  # Integer based indexing\n",
    "df.iloc[:, 3:7]  # Selects columns 3 through 6\n",
    "\n",
    "# df.loc[]  # Selecting by label/index, or boolean (conditional lookup)\n",
    "df.loc[:, 'Team']  # Selects the 'Team' column\n",
    "# Can be replaced by df['Team'] or df.Team\n",
    "df.loc[7:16, 'Team']\n",
    "\n",
    "df.loc[df['Goals'] > 7]  # Selects rows that only satisfies the condition\n",
    "# Can be replaced by df[df['Goal] > 7]\n",
    "df.loc[df['Goals'] > 7, ['Team']]  # Selects teams with goals higher than 7.\n",
    "\n",
    "df.loc[df['Team'].str.contains('c')]  # Returns rows of df where the data in df['Team'] contains the string 'c'"
   ]
  },
  {
   "cell_type": "markdown",
   "metadata": {
    "hidden": true
   },
   "source": [
    "## Changing values in a dataframe:"
   ]
  },
  {
   "cell_type": "code",
   "execution_count": null,
   "metadata": {
    "hidden": true
   },
   "outputs": [],
   "source": [
    "df.loc[df['Goals'] > 10, 'Goals'] = 10\n",
    "# All goal counts greater than 10 is simply set to 10"
   ]
  },
  {
   "cell_type": "markdown",
   "metadata": {
    "hidden": true
   },
   "source": [
    "## Sorting by the value in a column:"
   ]
  },
  {
   "cell_type": "code",
   "execution_count": null,
   "metadata": {
    "hidden": true
   },
   "outputs": [],
   "source": [
    "df.sort_values([\"column(s) you want to sort by\"], ascending=False)"
   ]
  },
  {
   "cell_type": "markdown",
   "metadata": {
    "hidden": true
   },
   "source": [
    "## Creating and deleting new columns:"
   ]
  },
  {
   "cell_type": "code",
   "execution_count": null,
   "metadata": {
    "hidden": true
   },
   "outputs": [],
   "source": [
    "df.loc[df['Goals'] > 7, 'High Score'] = 'Y'\n",
    "# Creates a new column 'High Score', where it has value Y if goals is greater than 7\n",
    "\n",
    "\n",
    "del crime['Total']\n",
    "crime.pop('Total')  # Deletes the column AND returns that deleted column\n",
    "cars1 = cars1.loc[:, \"mpg\":\"car\"]  # It may be better to index the columns you want to keep."
   ]
  },
  {
   "cell_type": "markdown",
   "metadata": {
    "hidden": true
   },
   "source": [
    "## Selecting multiple columns or rows:\n",
    "- Need to put additional [] around the row/column names, even if there is only one.\n",
    "- When applying multiple conditions, need to wrap each condition with ()."
   ]
  },
  {
   "cell_type": "code",
   "execution_count": 7,
   "metadata": {
    "hidden": true
   },
   "outputs": [
    {
     "data": {
      "text/html": [
       "<div>\n",
       "<style scoped>\n",
       "    .dataframe tbody tr th:only-of-type {\n",
       "        vertical-align: middle;\n",
       "    }\n",
       "\n",
       "    .dataframe tbody tr th {\n",
       "        vertical-align: top;\n",
       "    }\n",
       "\n",
       "    .dataframe thead th {\n",
       "        text-align: right;\n",
       "    }\n",
       "</style>\n",
       "<table border=\"1\" class=\"dataframe\">\n",
       "  <thead>\n",
       "    <tr style=\"text-align: right;\">\n",
       "      <th></th>\n",
       "      <th>Team</th>\n",
       "      <th>Shooting Accuracy</th>\n",
       "    </tr>\n",
       "  </thead>\n",
       "  <tbody>\n",
       "    <tr>\n",
       "      <th>3</th>\n",
       "      <td>England</td>\n",
       "      <td>50.0%</td>\n",
       "    </tr>\n",
       "    <tr>\n",
       "      <th>7</th>\n",
       "      <td>Italy</td>\n",
       "      <td>43.0%</td>\n",
       "    </tr>\n",
       "    <tr>\n",
       "      <th>12</th>\n",
       "      <td>Russia</td>\n",
       "      <td>22.5%</td>\n",
       "    </tr>\n",
       "  </tbody>\n",
       "</table>\n",
       "</div>"
      ],
      "text/plain": [
       "       Team Shooting Accuracy\n",
       "3   England             50.0%\n",
       "7     Italy             43.0%\n",
       "12   Russia             22.5%"
      ]
     },
     "execution_count": 7,
     "metadata": {},
     "output_type": "execute_result"
    }
   ],
   "source": [
    "# Selecting multiple columns:\n",
    "df[['Goals', 'Team']]\n",
    "df.loc[:, ['Goals']]\n",
    "\n",
    "# Selecting multiple rows:\n",
    "df.loc[1:3]\n",
    "df.loc[['Greece']]\n",
    "\n",
    "army[(army[\"deaths\"] > 500) | (army[\"deaths\"] < 50)]\n",
    "# When applying multiple conditions, need to wrap each condition with ().\n",
    "\n",
    "# Selecting multiple rows and columns:\n",
    "df.loc[df.Team.isin(['England', 'Italy', 'Russia']), ['Team','Shooting Accuracy']]\n",
    "# df.isin() will return True if the input is in the DataFrame."
   ]
  },
  {
   "cell_type": "markdown",
   "metadata": {
    "hidden": true
   },
   "source": [
    "## String methods:\n",
    "- str.contains(), str.startswith(), str.endswith() \n",
    "- isin() => used to check for multiple values"
   ]
  },
  {
   "cell_type": "code",
   "execution_count": null,
   "metadata": {
    "hidden": true
   },
   "outputs": [],
   "source": [
    "euro12[euro12['Team'].str.contains('g')]  # Selects the rows that contains 'g' in its team name\n",
    "euro12[euro12['Team'].str.startswith('G')]  # Selects the rows where the team name starts with 'G'\n",
    "euro12[euro12['Team'].str.endswith('g')]  #Selects the rows where the team name ends with 'g'\n",
    "\n",
    "df.loc[df.Team.isin(['England', 'Italy', 'Russia']), ['Team','Shooting Accuracy']]\n",
    "# df.isin() will return True if the input is in the DataFrame.\n",
    "# Used when you have multiple inputs to check for.\n"
   ]
  },
  {
   "cell_type": "markdown",
   "metadata": {
    "hidden": true
   },
   "source": [
    "## Series - single column from a DataFrame"
   ]
  },
  {
   "cell_type": "code",
   "execution_count": null,
   "metadata": {
    "hidden": true
   },
   "outputs": [],
   "source": [
    "ser = df['Goals']\n",
    "ser[0:3]\n",
    "ser[ser > 8]  # or ser.loc[ser > 8]"
   ]
  },
  {
   "cell_type": "code",
   "execution_count": null,
   "metadata": {
    "hidden": true
   },
   "outputs": [],
   "source": []
  },
  {
   "cell_type": "markdown",
   "metadata": {
    "hidden": true
   },
   "source": [
    "## Groupby()\n",
    "- Often used with .mean(), .median(), .min(), etc.\n",
    "- Can further use .agg() to find stats values for the grouped indexes."
   ]
  },
  {
   "cell_type": "code",
   "execution_count": null,
   "metadata": {
    "hidden": true
   },
   "outputs": [],
   "source": [
    "drinks.groupby('continent').mean()  \n",
    "# Gives the mean values of each columns, grouped by the column 'continent.'\n",
    "users.groupby(['occupation', 'gender']).age.mean()\n",
    "# Groupby can also contain a list of column names!\n",
    "\n",
    "drinks.groupby('continent').spirit_servings.agg(['mean', 'min', 'max']) \n",
    "# Gives the mean, min, max values of the 'spirit_servings' column after aggregating the df by 'continent.'\n",
    "\n",
    "# create a data frame and apply count to gender\n",
    "gender_ocup = users.groupby(['occupation', 'gender']).agg({'gender': 'count'})"
   ]
  },
  {
   "cell_type": "markdown",
   "metadata": {
    "hidden": true
   },
   "source": [
    "- After using .groupby(), you will get a groupby object.\n",
    "- This object is composed of key and value pairs, where the group index are the key and the values are the DataFrame with that group index."
   ]
  },
  {
   "cell_type": "code",
   "execution_count": 29,
   "metadata": {
    "hidden": true
   },
   "outputs": [
    {
     "data": {
      "text/html": [
       "<div>\n",
       "<style scoped>\n",
       "    .dataframe tbody tr th:only-of-type {\n",
       "        vertical-align: middle;\n",
       "    }\n",
       "\n",
       "    .dataframe tbody tr th {\n",
       "        vertical-align: top;\n",
       "    }\n",
       "\n",
       "    .dataframe thead th {\n",
       "        text-align: right;\n",
       "    }\n",
       "</style>\n",
       "<table border=\"1\" class=\"dataframe\">\n",
       "  <thead>\n",
       "    <tr style=\"text-align: right;\">\n",
       "      <th></th>\n",
       "      <th>index</th>\n",
       "      <th>company</th>\n",
       "      <th>body-style</th>\n",
       "      <th>wheel-base</th>\n",
       "      <th>length</th>\n",
       "      <th>engine-type</th>\n",
       "      <th>num-of-cylinders</th>\n",
       "      <th>horsepower</th>\n",
       "      <th>average-mileage</th>\n",
       "      <th>price</th>\n",
       "    </tr>\n",
       "  </thead>\n",
       "  <tbody>\n",
       "    <tr>\n",
       "      <th>0</th>\n",
       "      <td>0</td>\n",
       "      <td>alfa-romero</td>\n",
       "      <td>convertible</td>\n",
       "      <td>88.6</td>\n",
       "      <td>168.8</td>\n",
       "      <td>dohc</td>\n",
       "      <td>four</td>\n",
       "      <td>111</td>\n",
       "      <td>21</td>\n",
       "      <td>13495.0</td>\n",
       "    </tr>\n",
       "    <tr>\n",
       "      <th>1</th>\n",
       "      <td>1</td>\n",
       "      <td>alfa-romero</td>\n",
       "      <td>convertible</td>\n",
       "      <td>88.6</td>\n",
       "      <td>168.8</td>\n",
       "      <td>dohc</td>\n",
       "      <td>four</td>\n",
       "      <td>111</td>\n",
       "      <td>21</td>\n",
       "      <td>16500.0</td>\n",
       "    </tr>\n",
       "    <tr>\n",
       "      <th>2</th>\n",
       "      <td>2</td>\n",
       "      <td>alfa-romero</td>\n",
       "      <td>hatchback</td>\n",
       "      <td>94.5</td>\n",
       "      <td>171.2</td>\n",
       "      <td>ohcv</td>\n",
       "      <td>six</td>\n",
       "      <td>154</td>\n",
       "      <td>19</td>\n",
       "      <td>16500.0</td>\n",
       "    </tr>\n",
       "    <tr>\n",
       "      <th>3</th>\n",
       "      <td>3</td>\n",
       "      <td>audi</td>\n",
       "      <td>sedan</td>\n",
       "      <td>99.8</td>\n",
       "      <td>176.6</td>\n",
       "      <td>ohc</td>\n",
       "      <td>four</td>\n",
       "      <td>102</td>\n",
       "      <td>24</td>\n",
       "      <td>13950.0</td>\n",
       "    </tr>\n",
       "    <tr>\n",
       "      <th>4</th>\n",
       "      <td>4</td>\n",
       "      <td>audi</td>\n",
       "      <td>sedan</td>\n",
       "      <td>99.4</td>\n",
       "      <td>176.6</td>\n",
       "      <td>ohc</td>\n",
       "      <td>five</td>\n",
       "      <td>115</td>\n",
       "      <td>18</td>\n",
       "      <td>17450.0</td>\n",
       "    </tr>\n",
       "  </tbody>\n",
       "</table>\n",
       "</div>"
      ],
      "text/plain": [
       "   index      company   body-style  wheel-base  length engine-type  \\\n",
       "0      0  alfa-romero  convertible        88.6   168.8        dohc   \n",
       "1      1  alfa-romero  convertible        88.6   168.8        dohc   \n",
       "2      2  alfa-romero    hatchback        94.5   171.2        ohcv   \n",
       "3      3         audi        sedan        99.8   176.6         ohc   \n",
       "4      4         audi        sedan        99.4   176.6         ohc   \n",
       "\n",
       "  num-of-cylinders  horsepower  average-mileage    price  \n",
       "0             four         111               21  13495.0  \n",
       "1             four         111               21  16500.0  \n",
       "2              six         154               19  16500.0  \n",
       "3             four         102               24  13950.0  \n",
       "4             five         115               18  17450.0  "
      ]
     },
     "execution_count": 29,
     "metadata": {},
     "output_type": "execute_result"
    }
   ],
   "source": [
    "cars = pd.read_csv('Data/Automobile_data.csv')\n",
    "cars.head()"
   ]
  },
  {
   "cell_type": "code",
   "execution_count": 24,
   "metadata": {
    "hidden": true
   },
   "outputs": [],
   "source": [
    "company_groups = cars.groupby('company')"
   ]
  },
  {
   "cell_type": "code",
   "execution_count": 26,
   "metadata": {
    "hidden": true
   },
   "outputs": [
    {
     "name": "stdout",
     "output_type": "stream",
     "text": [
      "alfa-romero\n",
      "   index      company   body-style  wheel-base  length engine-type  \\\n",
      "0      0  alfa-romero  convertible        88.6   168.8        dohc   \n",
      "1      1  alfa-romero  convertible        88.6   168.8        dohc   \n",
      "2      2  alfa-romero    hatchback        94.5   171.2        ohcv   \n",
      "\n",
      "  num-of-cylinders  horsepower  average-mileage    price  \n",
      "0             four         111               21  13495.0  \n",
      "1             four         111               21  16500.0  \n",
      "2              six         154               19  16500.0  \n",
      "audi\n",
      "   index company body-style  wheel-base  length engine-type num-of-cylinders  \\\n",
      "3      3    audi      sedan        99.8   176.6         ohc             four   \n",
      "4      4    audi      sedan        99.4   176.6         ohc             five   \n",
      "5      5    audi      sedan        99.8   177.3         ohc             five   \n",
      "6      6    audi      wagon       105.8   192.7         ohc             five   \n",
      "\n",
      "   horsepower  average-mileage    price  \n",
      "3         102               24  13950.0  \n",
      "4         115               18  17450.0  \n",
      "5         110               19  15250.0  \n",
      "6         110               19  18920.0  \n",
      "bmw\n",
      "    index company body-style  wheel-base  length engine-type num-of-cylinders  \\\n",
      "7       9     bmw      sedan       101.2   176.8         ohc             four   \n",
      "8      10     bmw      sedan       101.2   176.8         ohc             four   \n",
      "9      11     bmw      sedan       101.2   176.8         ohc              six   \n",
      "10     13     bmw      sedan       103.5   189.0         ohc              six   \n",
      "11     14     bmw      sedan       103.5   193.8         ohc              six   \n",
      "12     15     bmw      sedan       110.0   197.0         ohc              six   \n",
      "\n",
      "    horsepower  average-mileage    price  \n",
      "7          101               23  16430.0  \n",
      "8          101               23  16925.0  \n",
      "9          121               21  20970.0  \n",
      "10         182               16  30760.0  \n",
      "11         182               16  41315.0  \n",
      "12         182               15  36880.0  \n",
      "chevrolet\n",
      "    index    company body-style  wheel-base  length engine-type  \\\n",
      "13     16  chevrolet  hatchback        88.4   141.1           l   \n",
      "14     17  chevrolet  hatchback        94.5   155.9         ohc   \n",
      "15     18  chevrolet      sedan        94.5   158.8         ohc   \n",
      "\n",
      "   num-of-cylinders  horsepower  average-mileage   price  \n",
      "13            three          48               47  5151.0  \n",
      "14             four          70               38  6295.0  \n",
      "15             four          70               38  6575.0  \n",
      "dodge\n",
      "    index company body-style  wheel-base  length engine-type num-of-cylinders  \\\n",
      "16     19   dodge  hatchback        93.7   157.3         ohc             four   \n",
      "17     20   dodge  hatchback        93.7   157.3         ohc             four   \n",
      "\n",
      "    horsepower  average-mileage   price  \n",
      "16          68               31  6377.0  \n",
      "17          68               31  6229.0  \n",
      "honda\n",
      "    index company body-style  wheel-base  length engine-type num-of-cylinders  \\\n",
      "18     27   honda      wagon        96.5   157.1         ohc             four   \n",
      "19     28   honda      sedan        96.5   175.4         ohc             four   \n",
      "20     29   honda      sedan        96.5   169.1         ohc             four   \n",
      "\n",
      "    horsepower  average-mileage    price  \n",
      "18          76               30   7295.0  \n",
      "19         101               24  12945.0  \n",
      "20         100               25  10345.0  \n",
      "isuzu\n",
      "    index company body-style  wheel-base  length engine-type num-of-cylinders  \\\n",
      "21     30   isuzu      sedan        94.3   170.7         ohc             four   \n",
      "22     31   isuzu      sedan        94.5   155.9         ohc             four   \n",
      "23     32   isuzu      sedan        94.5   155.9         ohc             four   \n",
      "\n",
      "    horsepower  average-mileage   price  \n",
      "21          78               24  6785.0  \n",
      "22          70               38     NaN  \n",
      "23          70               38     NaN  \n",
      "jaguar\n",
      "    index company body-style  wheel-base  length engine-type num-of-cylinders  \\\n",
      "24     33  jaguar      sedan       113.0   199.6        dohc              six   \n",
      "25     34  jaguar      sedan       113.0   199.6        dohc              six   \n",
      "26     35  jaguar      sedan       102.0   191.7        ohcv           twelve   \n",
      "\n",
      "    horsepower  average-mileage    price  \n",
      "24         176               15  32250.0  \n",
      "25         176               15  35550.0  \n",
      "26         262               13  36000.0  \n",
      "mazda\n",
      "    index company body-style  wheel-base  length engine-type num-of-cylinders  \\\n",
      "27     36   mazda  hatchback        93.1   159.1         ohc             four   \n",
      "28     37   mazda  hatchback        93.1   159.1         ohc             four   \n",
      "29     38   mazda  hatchback        93.1   159.1         ohc             four   \n",
      "30     39   mazda  hatchback        95.3   169.0       rotor              two   \n",
      "31     43   mazda      sedan       104.9   175.0         ohc             four   \n",
      "\n",
      "    horsepower  average-mileage    price  \n",
      "27          68               30   5195.0  \n",
      "28          68               31   6095.0  \n",
      "29          68               31   6795.0  \n",
      "30         101               17  11845.0  \n",
      "31          72               31  18344.0  \n",
      "mercedes-benz\n",
      "    index        company body-style  wheel-base  length engine-type  \\\n",
      "32     44  mercedes-benz      sedan       110.0   190.9         ohc   \n",
      "33     45  mercedes-benz      wagon       110.0   190.9         ohc   \n",
      "34     46  mercedes-benz      sedan       120.9   208.1        ohcv   \n",
      "35     47  mercedes-benz    hardtop       112.0   199.2        ohcv   \n",
      "\n",
      "   num-of-cylinders  horsepower  average-mileage    price  \n",
      "32             five         123               22  25552.0  \n",
      "33             five         123               22  28248.0  \n",
      "34            eight         184               14  40960.0  \n",
      "35            eight         184               14  45400.0  \n",
      "mitsubishi\n",
      "    index     company body-style  wheel-base  length engine-type  \\\n",
      "36     49  mitsubishi  hatchback        93.7   157.3         ohc   \n",
      "37     50  mitsubishi  hatchback        93.7   157.3         ohc   \n",
      "38     51  mitsubishi      sedan        96.3   172.4         ohc   \n",
      "39     52  mitsubishi      sedan        96.3   172.4         ohc   \n",
      "\n",
      "   num-of-cylinders  horsepower  average-mileage   price  \n",
      "36             four          68               37  5389.0  \n",
      "37             four          68               31  6189.0  \n",
      "38             four          88               25  6989.0  \n",
      "39             four          88               25  8189.0  \n",
      "nissan\n",
      "    index company body-style  wheel-base  length engine-type num-of-cylinders  \\\n",
      "40     53  nissan      sedan        94.5   165.3         ohc             four   \n",
      "41     54  nissan      sedan        94.5   165.3         ohc             four   \n",
      "42     55  nissan      sedan        94.5   165.3         ohc             four   \n",
      "43     56  nissan      wagon        94.5   170.2         ohc             four   \n",
      "44     57  nissan      sedan       100.4   184.6        ohcv              six   \n",
      "\n",
      "    horsepower  average-mileage    price  \n",
      "40          55               45   7099.0  \n",
      "41          69               31   6649.0  \n",
      "42          69               31   6849.0  \n",
      "43          69               31   7349.0  \n",
      "44         152               19  13499.0  \n",
      "porsche\n",
      "    index  company   body-style  wheel-base  length engine-type  \\\n",
      "45     61  porsche      hardtop        89.5   168.9        ohcf   \n",
      "46     62  porsche  convertible        89.5   168.9        ohcf   \n",
      "47     63  porsche    hatchback        98.4   175.7       dohcv   \n",
      "\n",
      "   num-of-cylinders  horsepower  average-mileage    price  \n",
      "45              six         207               17  34028.0  \n",
      "46              six         207               17  37028.0  \n",
      "47            eight         288               17      NaN  \n",
      "toyota\n",
      "    index company body-style  wheel-base  length engine-type num-of-cylinders  \\\n",
      "48     66  toyota  hatchback        95.7   158.7         ohc             four   \n",
      "49     67  toyota  hatchback        95.7   158.7         ohc             four   \n",
      "50     68  toyota  hatchback        95.7   158.7         ohc             four   \n",
      "51     69  toyota      wagon        95.7   169.7         ohc             four   \n",
      "52     70  toyota      wagon        95.7   169.7         ohc             four   \n",
      "53     71  toyota      wagon        95.7   169.7         ohc             four   \n",
      "54     79  toyota      wagon       104.5   187.8        dohc              six   \n",
      "\n",
      "    horsepower  average-mileage    price  \n",
      "48          62               35   5348.0  \n",
      "49          62               31   6338.0  \n",
      "50          62               31   6488.0  \n",
      "51          62               31   6918.0  \n",
      "52          62               27   7898.0  \n",
      "53          62               27   8778.0  \n",
      "54         156               19  15750.0  \n",
      "volkswagen\n",
      "    index     company body-style  wheel-base  length engine-type  \\\n",
      "55     80  volkswagen      sedan        97.3   171.7         ohc   \n",
      "56     81  volkswagen      sedan        97.3   171.7         ohc   \n",
      "57     82  volkswagen      sedan        97.3   171.7         ohc   \n",
      "58     86  volkswagen      sedan        97.3   171.7         ohc   \n",
      "\n",
      "   num-of-cylinders  horsepower  average-mileage   price  \n",
      "55             four          52               37  7775.0  \n",
      "56             four          85               27  7975.0  \n",
      "57             four          52               37  7995.0  \n",
      "58             four         100               26  9995.0  \n",
      "volvo\n",
      "    index company body-style  wheel-base  length engine-type num-of-cylinders  \\\n",
      "59     87   volvo      sedan       104.3   188.8         ohc             four   \n",
      "60     88   volvo      wagon       104.3   188.8         ohc             four   \n",
      "\n",
      "    horsepower  average-mileage    price  \n",
      "59         114               23  12940.0  \n",
      "60         114               23  13415.0  \n"
     ]
    }
   ],
   "source": [
    "for company, cars_DataFrame in company_groups:\n",
    "    print(company)\n",
    "    print(cars_DataFrame)"
   ]
  },
  {
   "cell_type": "code",
   "execution_count": 30,
   "metadata": {
    "hidden": true
   },
   "outputs": [
    {
     "data": {
      "text/html": [
       "<div>\n",
       "<style scoped>\n",
       "    .dataframe tbody tr th:only-of-type {\n",
       "        vertical-align: middle;\n",
       "    }\n",
       "\n",
       "    .dataframe tbody tr th {\n",
       "        vertical-align: top;\n",
       "    }\n",
       "\n",
       "    .dataframe thead th {\n",
       "        text-align: right;\n",
       "    }\n",
       "</style>\n",
       "<table border=\"1\" class=\"dataframe\">\n",
       "  <thead>\n",
       "    <tr style=\"text-align: right;\">\n",
       "      <th></th>\n",
       "      <th>index</th>\n",
       "      <th>company</th>\n",
       "      <th>body-style</th>\n",
       "      <th>wheel-base</th>\n",
       "      <th>length</th>\n",
       "      <th>engine-type</th>\n",
       "      <th>num-of-cylinders</th>\n",
       "      <th>horsepower</th>\n",
       "      <th>average-mileage</th>\n",
       "      <th>price</th>\n",
       "    </tr>\n",
       "  </thead>\n",
       "  <tbody>\n",
       "    <tr>\n",
       "      <th>7</th>\n",
       "      <td>9</td>\n",
       "      <td>bmw</td>\n",
       "      <td>sedan</td>\n",
       "      <td>101.2</td>\n",
       "      <td>176.8</td>\n",
       "      <td>ohc</td>\n",
       "      <td>four</td>\n",
       "      <td>101</td>\n",
       "      <td>23</td>\n",
       "      <td>16430.0</td>\n",
       "    </tr>\n",
       "    <tr>\n",
       "      <th>8</th>\n",
       "      <td>10</td>\n",
       "      <td>bmw</td>\n",
       "      <td>sedan</td>\n",
       "      <td>101.2</td>\n",
       "      <td>176.8</td>\n",
       "      <td>ohc</td>\n",
       "      <td>four</td>\n",
       "      <td>101</td>\n",
       "      <td>23</td>\n",
       "      <td>16925.0</td>\n",
       "    </tr>\n",
       "    <tr>\n",
       "      <th>9</th>\n",
       "      <td>11</td>\n",
       "      <td>bmw</td>\n",
       "      <td>sedan</td>\n",
       "      <td>101.2</td>\n",
       "      <td>176.8</td>\n",
       "      <td>ohc</td>\n",
       "      <td>six</td>\n",
       "      <td>121</td>\n",
       "      <td>21</td>\n",
       "      <td>20970.0</td>\n",
       "    </tr>\n",
       "    <tr>\n",
       "      <th>10</th>\n",
       "      <td>13</td>\n",
       "      <td>bmw</td>\n",
       "      <td>sedan</td>\n",
       "      <td>103.5</td>\n",
       "      <td>189.0</td>\n",
       "      <td>ohc</td>\n",
       "      <td>six</td>\n",
       "      <td>182</td>\n",
       "      <td>16</td>\n",
       "      <td>30760.0</td>\n",
       "    </tr>\n",
       "    <tr>\n",
       "      <th>11</th>\n",
       "      <td>14</td>\n",
       "      <td>bmw</td>\n",
       "      <td>sedan</td>\n",
       "      <td>103.5</td>\n",
       "      <td>193.8</td>\n",
       "      <td>ohc</td>\n",
       "      <td>six</td>\n",
       "      <td>182</td>\n",
       "      <td>16</td>\n",
       "      <td>41315.0</td>\n",
       "    </tr>\n",
       "    <tr>\n",
       "      <th>12</th>\n",
       "      <td>15</td>\n",
       "      <td>bmw</td>\n",
       "      <td>sedan</td>\n",
       "      <td>110.0</td>\n",
       "      <td>197.0</td>\n",
       "      <td>ohc</td>\n",
       "      <td>six</td>\n",
       "      <td>182</td>\n",
       "      <td>15</td>\n",
       "      <td>36880.0</td>\n",
       "    </tr>\n",
       "  </tbody>\n",
       "</table>\n",
       "</div>"
      ],
      "text/plain": [
       "    index company body-style  wheel-base  length engine-type num-of-cylinders  \\\n",
       "7       9     bmw      sedan       101.2   176.8         ohc             four   \n",
       "8      10     bmw      sedan       101.2   176.8         ohc             four   \n",
       "9      11     bmw      sedan       101.2   176.8         ohc              six   \n",
       "10     13     bmw      sedan       103.5   189.0         ohc              six   \n",
       "11     14     bmw      sedan       103.5   193.8         ohc              six   \n",
       "12     15     bmw      sedan       110.0   197.0         ohc              six   \n",
       "\n",
       "    horsepower  average-mileage    price  \n",
       "7          101               23  16430.0  \n",
       "8          101               23  16925.0  \n",
       "9          121               21  20970.0  \n",
       "10         182               16  30760.0  \n",
       "11         182               16  41315.0  \n",
       "12         182               15  36880.0  "
      ]
     },
     "execution_count": 30,
     "metadata": {},
     "output_type": "execute_result"
    }
   ],
   "source": [
    "# If you want to access a specific DataFrame:\n",
    "company_groups.get_group('bmw')"
   ]
  },
  {
   "cell_type": "code",
   "execution_count": null,
   "metadata": {
    "hidden": true
   },
   "outputs": [],
   "source": [
    "# Similar Functionality in SQL:\n",
    "SELECT * from cars GROUP BY company"
   ]
  },
  {
   "cell_type": "code",
   "execution_count": 31,
   "metadata": {
    "hidden": true
   },
   "outputs": [
    {
     "data": {
      "text/html": [
       "<div>\n",
       "<style scoped>\n",
       "    .dataframe tbody tr th:only-of-type {\n",
       "        vertical-align: middle;\n",
       "    }\n",
       "\n",
       "    .dataframe tbody tr th {\n",
       "        vertical-align: top;\n",
       "    }\n",
       "\n",
       "    .dataframe thead th {\n",
       "        text-align: right;\n",
       "    }\n",
       "</style>\n",
       "<table border=\"1\" class=\"dataframe\">\n",
       "  <thead>\n",
       "    <tr style=\"text-align: right;\">\n",
       "      <th></th>\n",
       "      <th>index</th>\n",
       "      <th>wheel-base</th>\n",
       "      <th>length</th>\n",
       "      <th>horsepower</th>\n",
       "      <th>average-mileage</th>\n",
       "      <th>price</th>\n",
       "    </tr>\n",
       "    <tr>\n",
       "      <th>company</th>\n",
       "      <th></th>\n",
       "      <th></th>\n",
       "      <th></th>\n",
       "      <th></th>\n",
       "      <th></th>\n",
       "      <th></th>\n",
       "    </tr>\n",
       "  </thead>\n",
       "  <tbody>\n",
       "    <tr>\n",
       "      <th>alfa-romero</th>\n",
       "      <td>1.00</td>\n",
       "      <td>90.566667</td>\n",
       "      <td>169.600000</td>\n",
       "      <td>125.333333</td>\n",
       "      <td>20.333333</td>\n",
       "      <td>15498.333333</td>\n",
       "    </tr>\n",
       "    <tr>\n",
       "      <th>audi</th>\n",
       "      <td>4.50</td>\n",
       "      <td>101.200000</td>\n",
       "      <td>180.800000</td>\n",
       "      <td>109.250000</td>\n",
       "      <td>20.000000</td>\n",
       "      <td>16392.500000</td>\n",
       "    </tr>\n",
       "    <tr>\n",
       "      <th>bmw</th>\n",
       "      <td>12.00</td>\n",
       "      <td>103.433333</td>\n",
       "      <td>185.033333</td>\n",
       "      <td>144.833333</td>\n",
       "      <td>19.000000</td>\n",
       "      <td>27213.333333</td>\n",
       "    </tr>\n",
       "    <tr>\n",
       "      <th>chevrolet</th>\n",
       "      <td>17.00</td>\n",
       "      <td>92.466667</td>\n",
       "      <td>151.933333</td>\n",
       "      <td>62.666667</td>\n",
       "      <td>41.000000</td>\n",
       "      <td>6007.000000</td>\n",
       "    </tr>\n",
       "    <tr>\n",
       "      <th>dodge</th>\n",
       "      <td>19.50</td>\n",
       "      <td>93.700000</td>\n",
       "      <td>157.300000</td>\n",
       "      <td>68.000000</td>\n",
       "      <td>31.000000</td>\n",
       "      <td>6303.000000</td>\n",
       "    </tr>\n",
       "    <tr>\n",
       "      <th>honda</th>\n",
       "      <td>28.00</td>\n",
       "      <td>96.500000</td>\n",
       "      <td>167.200000</td>\n",
       "      <td>92.333333</td>\n",
       "      <td>26.333333</td>\n",
       "      <td>10195.000000</td>\n",
       "    </tr>\n",
       "    <tr>\n",
       "      <th>isuzu</th>\n",
       "      <td>31.00</td>\n",
       "      <td>94.433333</td>\n",
       "      <td>160.833333</td>\n",
       "      <td>72.666667</td>\n",
       "      <td>33.333333</td>\n",
       "      <td>6785.000000</td>\n",
       "    </tr>\n",
       "    <tr>\n",
       "      <th>jaguar</th>\n",
       "      <td>34.00</td>\n",
       "      <td>109.333333</td>\n",
       "      <td>196.966667</td>\n",
       "      <td>204.666667</td>\n",
       "      <td>14.333333</td>\n",
       "      <td>34600.000000</td>\n",
       "    </tr>\n",
       "    <tr>\n",
       "      <th>mazda</th>\n",
       "      <td>38.60</td>\n",
       "      <td>95.900000</td>\n",
       "      <td>164.260000</td>\n",
       "      <td>75.400000</td>\n",
       "      <td>28.000000</td>\n",
       "      <td>9654.800000</td>\n",
       "    </tr>\n",
       "    <tr>\n",
       "      <th>mercedes-benz</th>\n",
       "      <td>45.50</td>\n",
       "      <td>113.225000</td>\n",
       "      <td>197.275000</td>\n",
       "      <td>153.500000</td>\n",
       "      <td>18.000000</td>\n",
       "      <td>35040.000000</td>\n",
       "    </tr>\n",
       "    <tr>\n",
       "      <th>mitsubishi</th>\n",
       "      <td>50.50</td>\n",
       "      <td>95.000000</td>\n",
       "      <td>164.850000</td>\n",
       "      <td>78.000000</td>\n",
       "      <td>29.500000</td>\n",
       "      <td>6689.000000</td>\n",
       "    </tr>\n",
       "    <tr>\n",
       "      <th>nissan</th>\n",
       "      <td>55.00</td>\n",
       "      <td>95.680000</td>\n",
       "      <td>170.140000</td>\n",
       "      <td>82.800000</td>\n",
       "      <td>31.400000</td>\n",
       "      <td>8289.000000</td>\n",
       "    </tr>\n",
       "    <tr>\n",
       "      <th>porsche</th>\n",
       "      <td>62.00</td>\n",
       "      <td>92.466667</td>\n",
       "      <td>171.166667</td>\n",
       "      <td>234.000000</td>\n",
       "      <td>17.000000</td>\n",
       "      <td>35528.000000</td>\n",
       "    </tr>\n",
       "    <tr>\n",
       "      <th>toyota</th>\n",
       "      <td>70.00</td>\n",
       "      <td>96.957143</td>\n",
       "      <td>167.571429</td>\n",
       "      <td>75.428571</td>\n",
       "      <td>28.714286</td>\n",
       "      <td>8216.857143</td>\n",
       "    </tr>\n",
       "    <tr>\n",
       "      <th>volkswagen</th>\n",
       "      <td>82.25</td>\n",
       "      <td>97.300000</td>\n",
       "      <td>171.700000</td>\n",
       "      <td>72.250000</td>\n",
       "      <td>31.750000</td>\n",
       "      <td>8435.000000</td>\n",
       "    </tr>\n",
       "    <tr>\n",
       "      <th>volvo</th>\n",
       "      <td>87.50</td>\n",
       "      <td>104.300000</td>\n",
       "      <td>188.800000</td>\n",
       "      <td>114.000000</td>\n",
       "      <td>23.000000</td>\n",
       "      <td>13177.500000</td>\n",
       "    </tr>\n",
       "  </tbody>\n",
       "</table>\n",
       "</div>"
      ],
      "text/plain": [
       "               index  wheel-base      length  horsepower  average-mileage  \\\n",
       "company                                                                     \n",
       "alfa-romero     1.00   90.566667  169.600000  125.333333        20.333333   \n",
       "audi            4.50  101.200000  180.800000  109.250000        20.000000   \n",
       "bmw            12.00  103.433333  185.033333  144.833333        19.000000   \n",
       "chevrolet      17.00   92.466667  151.933333   62.666667        41.000000   \n",
       "dodge          19.50   93.700000  157.300000   68.000000        31.000000   \n",
       "honda          28.00   96.500000  167.200000   92.333333        26.333333   \n",
       "isuzu          31.00   94.433333  160.833333   72.666667        33.333333   \n",
       "jaguar         34.00  109.333333  196.966667  204.666667        14.333333   \n",
       "mazda          38.60   95.900000  164.260000   75.400000        28.000000   \n",
       "mercedes-benz  45.50  113.225000  197.275000  153.500000        18.000000   \n",
       "mitsubishi     50.50   95.000000  164.850000   78.000000        29.500000   \n",
       "nissan         55.00   95.680000  170.140000   82.800000        31.400000   \n",
       "porsche        62.00   92.466667  171.166667  234.000000        17.000000   \n",
       "toyota         70.00   96.957143  167.571429   75.428571        28.714286   \n",
       "volkswagen     82.25   97.300000  171.700000   72.250000        31.750000   \n",
       "volvo          87.50  104.300000  188.800000  114.000000        23.000000   \n",
       "\n",
       "                      price  \n",
       "company                      \n",
       "alfa-romero    15498.333333  \n",
       "audi           16392.500000  \n",
       "bmw            27213.333333  \n",
       "chevrolet       6007.000000  \n",
       "dodge           6303.000000  \n",
       "honda          10195.000000  \n",
       "isuzu           6785.000000  \n",
       "jaguar         34600.000000  \n",
       "mazda           9654.800000  \n",
       "mercedes-benz  35040.000000  \n",
       "mitsubishi      6689.000000  \n",
       "nissan          8289.000000  \n",
       "porsche        35528.000000  \n",
       "toyota          8216.857143  \n",
       "volkswagen      8435.000000  \n",
       "volvo          13177.500000  "
      ]
     },
     "execution_count": 31,
     "metadata": {},
     "output_type": "execute_result"
    }
   ],
   "source": [
    "company_groups.mean()\n",
    "\n",
    "# this functionality is called split, apply, combine.\n",
    "# split = .groupby() step - DataFrame is split according to group index.\n",
    "# apply = .mean() step - a function is applied to the data (can also be median, max, min, etc.)\n",
    "# combine = the results of the apply are then combined to give the result shown below:"
   ]
  },
  {
   "cell_type": "code",
   "execution_count": 32,
   "metadata": {
    "hidden": true,
    "scrolled": true
   },
   "outputs": [
    {
     "data": {
      "text/html": [
       "<div>\n",
       "<style scoped>\n",
       "    .dataframe tbody tr th:only-of-type {\n",
       "        vertical-align: middle;\n",
       "    }\n",
       "\n",
       "    .dataframe tbody tr th {\n",
       "        vertical-align: top;\n",
       "    }\n",
       "\n",
       "    .dataframe thead tr th {\n",
       "        text-align: left;\n",
       "    }\n",
       "\n",
       "    .dataframe thead tr:last-of-type th {\n",
       "        text-align: right;\n",
       "    }\n",
       "</style>\n",
       "<table border=\"1\" class=\"dataframe\">\n",
       "  <thead>\n",
       "    <tr>\n",
       "      <th></th>\n",
       "      <th colspan=\"8\" halign=\"left\">index</th>\n",
       "      <th colspan=\"2\" halign=\"left\">wheel-base</th>\n",
       "      <th>...</th>\n",
       "      <th colspan=\"2\" halign=\"left\">average-mileage</th>\n",
       "      <th colspan=\"8\" halign=\"left\">price</th>\n",
       "    </tr>\n",
       "    <tr>\n",
       "      <th></th>\n",
       "      <th>count</th>\n",
       "      <th>mean</th>\n",
       "      <th>std</th>\n",
       "      <th>min</th>\n",
       "      <th>25%</th>\n",
       "      <th>50%</th>\n",
       "      <th>75%</th>\n",
       "      <th>max</th>\n",
       "      <th>count</th>\n",
       "      <th>mean</th>\n",
       "      <th>...</th>\n",
       "      <th>75%</th>\n",
       "      <th>max</th>\n",
       "      <th>count</th>\n",
       "      <th>mean</th>\n",
       "      <th>std</th>\n",
       "      <th>min</th>\n",
       "      <th>25%</th>\n",
       "      <th>50%</th>\n",
       "      <th>75%</th>\n",
       "      <th>max</th>\n",
       "    </tr>\n",
       "    <tr>\n",
       "      <th>company</th>\n",
       "      <th></th>\n",
       "      <th></th>\n",
       "      <th></th>\n",
       "      <th></th>\n",
       "      <th></th>\n",
       "      <th></th>\n",
       "      <th></th>\n",
       "      <th></th>\n",
       "      <th></th>\n",
       "      <th></th>\n",
       "      <th></th>\n",
       "      <th></th>\n",
       "      <th></th>\n",
       "      <th></th>\n",
       "      <th></th>\n",
       "      <th></th>\n",
       "      <th></th>\n",
       "      <th></th>\n",
       "      <th></th>\n",
       "      <th></th>\n",
       "      <th></th>\n",
       "    </tr>\n",
       "  </thead>\n",
       "  <tbody>\n",
       "    <tr>\n",
       "      <th>alfa-romero</th>\n",
       "      <td>3.0</td>\n",
       "      <td>1.00</td>\n",
       "      <td>1.000000</td>\n",
       "      <td>0.0</td>\n",
       "      <td>0.50</td>\n",
       "      <td>1.0</td>\n",
       "      <td>1.50</td>\n",
       "      <td>2.0</td>\n",
       "      <td>3.0</td>\n",
       "      <td>90.566667</td>\n",
       "      <td>...</td>\n",
       "      <td>21.00</td>\n",
       "      <td>21.0</td>\n",
       "      <td>3.0</td>\n",
       "      <td>15498.333333</td>\n",
       "      <td>1734.937559</td>\n",
       "      <td>13495.0</td>\n",
       "      <td>14997.50</td>\n",
       "      <td>16500.0</td>\n",
       "      <td>16500.00</td>\n",
       "      <td>16500.0</td>\n",
       "    </tr>\n",
       "    <tr>\n",
       "      <th>audi</th>\n",
       "      <td>4.0</td>\n",
       "      <td>4.50</td>\n",
       "      <td>1.290994</td>\n",
       "      <td>3.0</td>\n",
       "      <td>3.75</td>\n",
       "      <td>4.5</td>\n",
       "      <td>5.25</td>\n",
       "      <td>6.0</td>\n",
       "      <td>4.0</td>\n",
       "      <td>101.200000</td>\n",
       "      <td>...</td>\n",
       "      <td>20.25</td>\n",
       "      <td>24.0</td>\n",
       "      <td>4.0</td>\n",
       "      <td>16392.500000</td>\n",
       "      <td>2219.434988</td>\n",
       "      <td>13950.0</td>\n",
       "      <td>14925.00</td>\n",
       "      <td>16350.0</td>\n",
       "      <td>17817.50</td>\n",
       "      <td>18920.0</td>\n",
       "    </tr>\n",
       "    <tr>\n",
       "      <th>bmw</th>\n",
       "      <td>6.0</td>\n",
       "      <td>12.00</td>\n",
       "      <td>2.366432</td>\n",
       "      <td>9.0</td>\n",
       "      <td>10.25</td>\n",
       "      <td>12.0</td>\n",
       "      <td>13.75</td>\n",
       "      <td>15.0</td>\n",
       "      <td>6.0</td>\n",
       "      <td>103.433333</td>\n",
       "      <td>...</td>\n",
       "      <td>22.50</td>\n",
       "      <td>23.0</td>\n",
       "      <td>6.0</td>\n",
       "      <td>27213.333333</td>\n",
       "      <td>10639.450957</td>\n",
       "      <td>16430.0</td>\n",
       "      <td>17936.25</td>\n",
       "      <td>25865.0</td>\n",
       "      <td>35350.00</td>\n",
       "      <td>41315.0</td>\n",
       "    </tr>\n",
       "    <tr>\n",
       "      <th>chevrolet</th>\n",
       "      <td>3.0</td>\n",
       "      <td>17.00</td>\n",
       "      <td>1.000000</td>\n",
       "      <td>16.0</td>\n",
       "      <td>16.50</td>\n",
       "      <td>17.0</td>\n",
       "      <td>17.50</td>\n",
       "      <td>18.0</td>\n",
       "      <td>3.0</td>\n",
       "      <td>92.466667</td>\n",
       "      <td>...</td>\n",
       "      <td>42.50</td>\n",
       "      <td>47.0</td>\n",
       "      <td>3.0</td>\n",
       "      <td>6007.000000</td>\n",
       "      <td>754.421633</td>\n",
       "      <td>5151.0</td>\n",
       "      <td>5723.00</td>\n",
       "      <td>6295.0</td>\n",
       "      <td>6435.00</td>\n",
       "      <td>6575.0</td>\n",
       "    </tr>\n",
       "    <tr>\n",
       "      <th>dodge</th>\n",
       "      <td>2.0</td>\n",
       "      <td>19.50</td>\n",
       "      <td>0.707107</td>\n",
       "      <td>19.0</td>\n",
       "      <td>19.25</td>\n",
       "      <td>19.5</td>\n",
       "      <td>19.75</td>\n",
       "      <td>20.0</td>\n",
       "      <td>2.0</td>\n",
       "      <td>93.700000</td>\n",
       "      <td>...</td>\n",
       "      <td>31.00</td>\n",
       "      <td>31.0</td>\n",
       "      <td>2.0</td>\n",
       "      <td>6303.000000</td>\n",
       "      <td>104.651804</td>\n",
       "      <td>6229.0</td>\n",
       "      <td>6266.00</td>\n",
       "      <td>6303.0</td>\n",
       "      <td>6340.00</td>\n",
       "      <td>6377.0</td>\n",
       "    </tr>\n",
       "    <tr>\n",
       "      <th>honda</th>\n",
       "      <td>3.0</td>\n",
       "      <td>28.00</td>\n",
       "      <td>1.000000</td>\n",
       "      <td>27.0</td>\n",
       "      <td>27.50</td>\n",
       "      <td>28.0</td>\n",
       "      <td>28.50</td>\n",
       "      <td>29.0</td>\n",
       "      <td>3.0</td>\n",
       "      <td>96.500000</td>\n",
       "      <td>...</td>\n",
       "      <td>27.50</td>\n",
       "      <td>30.0</td>\n",
       "      <td>3.0</td>\n",
       "      <td>10195.000000</td>\n",
       "      <td>2827.985148</td>\n",
       "      <td>7295.0</td>\n",
       "      <td>8820.00</td>\n",
       "      <td>10345.0</td>\n",
       "      <td>11645.00</td>\n",
       "      <td>12945.0</td>\n",
       "    </tr>\n",
       "    <tr>\n",
       "      <th>isuzu</th>\n",
       "      <td>3.0</td>\n",
       "      <td>31.00</td>\n",
       "      <td>1.000000</td>\n",
       "      <td>30.0</td>\n",
       "      <td>30.50</td>\n",
       "      <td>31.0</td>\n",
       "      <td>31.50</td>\n",
       "      <td>32.0</td>\n",
       "      <td>3.0</td>\n",
       "      <td>94.433333</td>\n",
       "      <td>...</td>\n",
       "      <td>38.00</td>\n",
       "      <td>38.0</td>\n",
       "      <td>1.0</td>\n",
       "      <td>6785.000000</td>\n",
       "      <td>NaN</td>\n",
       "      <td>6785.0</td>\n",
       "      <td>6785.00</td>\n",
       "      <td>6785.0</td>\n",
       "      <td>6785.00</td>\n",
       "      <td>6785.0</td>\n",
       "    </tr>\n",
       "    <tr>\n",
       "      <th>jaguar</th>\n",
       "      <td>3.0</td>\n",
       "      <td>34.00</td>\n",
       "      <td>1.000000</td>\n",
       "      <td>33.0</td>\n",
       "      <td>33.50</td>\n",
       "      <td>34.0</td>\n",
       "      <td>34.50</td>\n",
       "      <td>35.0</td>\n",
       "      <td>3.0</td>\n",
       "      <td>109.333333</td>\n",
       "      <td>...</td>\n",
       "      <td>15.00</td>\n",
       "      <td>15.0</td>\n",
       "      <td>3.0</td>\n",
       "      <td>34600.000000</td>\n",
       "      <td>2047.559523</td>\n",
       "      <td>32250.0</td>\n",
       "      <td>33900.00</td>\n",
       "      <td>35550.0</td>\n",
       "      <td>35775.00</td>\n",
       "      <td>36000.0</td>\n",
       "    </tr>\n",
       "    <tr>\n",
       "      <th>mazda</th>\n",
       "      <td>5.0</td>\n",
       "      <td>38.60</td>\n",
       "      <td>2.701851</td>\n",
       "      <td>36.0</td>\n",
       "      <td>37.00</td>\n",
       "      <td>38.0</td>\n",
       "      <td>39.00</td>\n",
       "      <td>43.0</td>\n",
       "      <td>5.0</td>\n",
       "      <td>95.900000</td>\n",
       "      <td>...</td>\n",
       "      <td>31.00</td>\n",
       "      <td>31.0</td>\n",
       "      <td>5.0</td>\n",
       "      <td>9654.800000</td>\n",
       "      <td>5500.900399</td>\n",
       "      <td>5195.0</td>\n",
       "      <td>6095.00</td>\n",
       "      <td>6795.0</td>\n",
       "      <td>11845.00</td>\n",
       "      <td>18344.0</td>\n",
       "    </tr>\n",
       "    <tr>\n",
       "      <th>mercedes-benz</th>\n",
       "      <td>4.0</td>\n",
       "      <td>45.50</td>\n",
       "      <td>1.290994</td>\n",
       "      <td>44.0</td>\n",
       "      <td>44.75</td>\n",
       "      <td>45.5</td>\n",
       "      <td>46.25</td>\n",
       "      <td>47.0</td>\n",
       "      <td>4.0</td>\n",
       "      <td>113.225000</td>\n",
       "      <td>...</td>\n",
       "      <td>22.00</td>\n",
       "      <td>22.0</td>\n",
       "      <td>4.0</td>\n",
       "      <td>35040.000000</td>\n",
       "      <td>9635.514309</td>\n",
       "      <td>25552.0</td>\n",
       "      <td>27574.00</td>\n",
       "      <td>34604.0</td>\n",
       "      <td>42070.00</td>\n",
       "      <td>45400.0</td>\n",
       "    </tr>\n",
       "    <tr>\n",
       "      <th>mitsubishi</th>\n",
       "      <td>4.0</td>\n",
       "      <td>50.50</td>\n",
       "      <td>1.290994</td>\n",
       "      <td>49.0</td>\n",
       "      <td>49.75</td>\n",
       "      <td>50.5</td>\n",
       "      <td>51.25</td>\n",
       "      <td>52.0</td>\n",
       "      <td>4.0</td>\n",
       "      <td>95.000000</td>\n",
       "      <td>...</td>\n",
       "      <td>32.50</td>\n",
       "      <td>37.0</td>\n",
       "      <td>4.0</td>\n",
       "      <td>6689.000000</td>\n",
       "      <td>1194.431524</td>\n",
       "      <td>5389.0</td>\n",
       "      <td>5989.00</td>\n",
       "      <td>6589.0</td>\n",
       "      <td>7289.00</td>\n",
       "      <td>8189.0</td>\n",
       "    </tr>\n",
       "    <tr>\n",
       "      <th>nissan</th>\n",
       "      <td>5.0</td>\n",
       "      <td>55.00</td>\n",
       "      <td>1.581139</td>\n",
       "      <td>53.0</td>\n",
       "      <td>54.00</td>\n",
       "      <td>55.0</td>\n",
       "      <td>56.00</td>\n",
       "      <td>57.0</td>\n",
       "      <td>5.0</td>\n",
       "      <td>95.680000</td>\n",
       "      <td>...</td>\n",
       "      <td>31.00</td>\n",
       "      <td>45.0</td>\n",
       "      <td>5.0</td>\n",
       "      <td>8289.000000</td>\n",
       "      <td>2924.337532</td>\n",
       "      <td>6649.0</td>\n",
       "      <td>6849.00</td>\n",
       "      <td>7099.0</td>\n",
       "      <td>7349.00</td>\n",
       "      <td>13499.0</td>\n",
       "    </tr>\n",
       "    <tr>\n",
       "      <th>porsche</th>\n",
       "      <td>3.0</td>\n",
       "      <td>62.00</td>\n",
       "      <td>1.000000</td>\n",
       "      <td>61.0</td>\n",
       "      <td>61.50</td>\n",
       "      <td>62.0</td>\n",
       "      <td>62.50</td>\n",
       "      <td>63.0</td>\n",
       "      <td>3.0</td>\n",
       "      <td>92.466667</td>\n",
       "      <td>...</td>\n",
       "      <td>17.00</td>\n",
       "      <td>17.0</td>\n",
       "      <td>2.0</td>\n",
       "      <td>35528.000000</td>\n",
       "      <td>2121.320344</td>\n",
       "      <td>34028.0</td>\n",
       "      <td>34778.00</td>\n",
       "      <td>35528.0</td>\n",
       "      <td>36278.00</td>\n",
       "      <td>37028.0</td>\n",
       "    </tr>\n",
       "    <tr>\n",
       "      <th>toyota</th>\n",
       "      <td>7.0</td>\n",
       "      <td>70.00</td>\n",
       "      <td>4.320494</td>\n",
       "      <td>66.0</td>\n",
       "      <td>67.50</td>\n",
       "      <td>69.0</td>\n",
       "      <td>70.50</td>\n",
       "      <td>79.0</td>\n",
       "      <td>7.0</td>\n",
       "      <td>96.957143</td>\n",
       "      <td>...</td>\n",
       "      <td>31.00</td>\n",
       "      <td>35.0</td>\n",
       "      <td>7.0</td>\n",
       "      <td>8216.857143</td>\n",
       "      <td>3502.409048</td>\n",
       "      <td>5348.0</td>\n",
       "      <td>6413.00</td>\n",
       "      <td>6918.0</td>\n",
       "      <td>8338.00</td>\n",
       "      <td>15750.0</td>\n",
       "    </tr>\n",
       "    <tr>\n",
       "      <th>volkswagen</th>\n",
       "      <td>4.0</td>\n",
       "      <td>82.25</td>\n",
       "      <td>2.629956</td>\n",
       "      <td>80.0</td>\n",
       "      <td>80.75</td>\n",
       "      <td>81.5</td>\n",
       "      <td>83.00</td>\n",
       "      <td>86.0</td>\n",
       "      <td>4.0</td>\n",
       "      <td>97.300000</td>\n",
       "      <td>...</td>\n",
       "      <td>37.00</td>\n",
       "      <td>37.0</td>\n",
       "      <td>4.0</td>\n",
       "      <td>8435.000000</td>\n",
       "      <td>1044.732821</td>\n",
       "      <td>7775.0</td>\n",
       "      <td>7925.00</td>\n",
       "      <td>7985.0</td>\n",
       "      <td>8495.00</td>\n",
       "      <td>9995.0</td>\n",
       "    </tr>\n",
       "    <tr>\n",
       "      <th>volvo</th>\n",
       "      <td>2.0</td>\n",
       "      <td>87.50</td>\n",
       "      <td>0.707107</td>\n",
       "      <td>87.0</td>\n",
       "      <td>87.25</td>\n",
       "      <td>87.5</td>\n",
       "      <td>87.75</td>\n",
       "      <td>88.0</td>\n",
       "      <td>2.0</td>\n",
       "      <td>104.300000</td>\n",
       "      <td>...</td>\n",
       "      <td>23.00</td>\n",
       "      <td>23.0</td>\n",
       "      <td>2.0</td>\n",
       "      <td>13177.500000</td>\n",
       "      <td>335.875721</td>\n",
       "      <td>12940.0</td>\n",
       "      <td>13058.75</td>\n",
       "      <td>13177.5</td>\n",
       "      <td>13296.25</td>\n",
       "      <td>13415.0</td>\n",
       "    </tr>\n",
       "  </tbody>\n",
       "</table>\n",
       "<p>16 rows × 48 columns</p>\n",
       "</div>"
      ],
      "text/plain": [
       "              index                                                   \\\n",
       "              count   mean       std   min    25%   50%    75%   max   \n",
       "company                                                                \n",
       "alfa-romero     3.0   1.00  1.000000   0.0   0.50   1.0   1.50   2.0   \n",
       "audi            4.0   4.50  1.290994   3.0   3.75   4.5   5.25   6.0   \n",
       "bmw             6.0  12.00  2.366432   9.0  10.25  12.0  13.75  15.0   \n",
       "chevrolet       3.0  17.00  1.000000  16.0  16.50  17.0  17.50  18.0   \n",
       "dodge           2.0  19.50  0.707107  19.0  19.25  19.5  19.75  20.0   \n",
       "honda           3.0  28.00  1.000000  27.0  27.50  28.0  28.50  29.0   \n",
       "isuzu           3.0  31.00  1.000000  30.0  30.50  31.0  31.50  32.0   \n",
       "jaguar          3.0  34.00  1.000000  33.0  33.50  34.0  34.50  35.0   \n",
       "mazda           5.0  38.60  2.701851  36.0  37.00  38.0  39.00  43.0   \n",
       "mercedes-benz   4.0  45.50  1.290994  44.0  44.75  45.5  46.25  47.0   \n",
       "mitsubishi      4.0  50.50  1.290994  49.0  49.75  50.5  51.25  52.0   \n",
       "nissan          5.0  55.00  1.581139  53.0  54.00  55.0  56.00  57.0   \n",
       "porsche         3.0  62.00  1.000000  61.0  61.50  62.0  62.50  63.0   \n",
       "toyota          7.0  70.00  4.320494  66.0  67.50  69.0  70.50  79.0   \n",
       "volkswagen      4.0  82.25  2.629956  80.0  80.75  81.5  83.00  86.0   \n",
       "volvo           2.0  87.50  0.707107  87.0  87.25  87.5  87.75  88.0   \n",
       "\n",
       "              wheel-base              ... average-mileage       price  \\\n",
       "                   count        mean  ...             75%   max count   \n",
       "company                               ...                               \n",
       "alfa-romero          3.0   90.566667  ...           21.00  21.0   3.0   \n",
       "audi                 4.0  101.200000  ...           20.25  24.0   4.0   \n",
       "bmw                  6.0  103.433333  ...           22.50  23.0   6.0   \n",
       "chevrolet            3.0   92.466667  ...           42.50  47.0   3.0   \n",
       "dodge                2.0   93.700000  ...           31.00  31.0   2.0   \n",
       "honda                3.0   96.500000  ...           27.50  30.0   3.0   \n",
       "isuzu                3.0   94.433333  ...           38.00  38.0   1.0   \n",
       "jaguar               3.0  109.333333  ...           15.00  15.0   3.0   \n",
       "mazda                5.0   95.900000  ...           31.00  31.0   5.0   \n",
       "mercedes-benz        4.0  113.225000  ...           22.00  22.0   4.0   \n",
       "mitsubishi           4.0   95.000000  ...           32.50  37.0   4.0   \n",
       "nissan               5.0   95.680000  ...           31.00  45.0   5.0   \n",
       "porsche              3.0   92.466667  ...           17.00  17.0   2.0   \n",
       "toyota               7.0   96.957143  ...           31.00  35.0   7.0   \n",
       "volkswagen           4.0   97.300000  ...           37.00  37.0   4.0   \n",
       "volvo                2.0  104.300000  ...           23.00  23.0   2.0   \n",
       "\n",
       "                                                                       \\\n",
       "                       mean           std      min       25%      50%   \n",
       "company                                                                 \n",
       "alfa-romero    15498.333333   1734.937559  13495.0  14997.50  16500.0   \n",
       "audi           16392.500000   2219.434988  13950.0  14925.00  16350.0   \n",
       "bmw            27213.333333  10639.450957  16430.0  17936.25  25865.0   \n",
       "chevrolet       6007.000000    754.421633   5151.0   5723.00   6295.0   \n",
       "dodge           6303.000000    104.651804   6229.0   6266.00   6303.0   \n",
       "honda          10195.000000   2827.985148   7295.0   8820.00  10345.0   \n",
       "isuzu           6785.000000           NaN   6785.0   6785.00   6785.0   \n",
       "jaguar         34600.000000   2047.559523  32250.0  33900.00  35550.0   \n",
       "mazda           9654.800000   5500.900399   5195.0   6095.00   6795.0   \n",
       "mercedes-benz  35040.000000   9635.514309  25552.0  27574.00  34604.0   \n",
       "mitsubishi      6689.000000   1194.431524   5389.0   5989.00   6589.0   \n",
       "nissan          8289.000000   2924.337532   6649.0   6849.00   7099.0   \n",
       "porsche        35528.000000   2121.320344  34028.0  34778.00  35528.0   \n",
       "toyota          8216.857143   3502.409048   5348.0   6413.00   6918.0   \n",
       "volkswagen      8435.000000   1044.732821   7775.0   7925.00   7985.0   \n",
       "volvo          13177.500000    335.875721  12940.0  13058.75  13177.5   \n",
       "\n",
       "                                  \n",
       "                    75%      max  \n",
       "company                           \n",
       "alfa-romero    16500.00  16500.0  \n",
       "audi           17817.50  18920.0  \n",
       "bmw            35350.00  41315.0  \n",
       "chevrolet       6435.00   6575.0  \n",
       "dodge           6340.00   6377.0  \n",
       "honda          11645.00  12945.0  \n",
       "isuzu           6785.00   6785.0  \n",
       "jaguar         35775.00  36000.0  \n",
       "mazda          11845.00  18344.0  \n",
       "mercedes-benz  42070.00  45400.0  \n",
       "mitsubishi      7289.00   8189.0  \n",
       "nissan          7349.00  13499.0  \n",
       "porsche        36278.00  37028.0  \n",
       "toyota          8338.00  15750.0  \n",
       "volkswagen      8495.00   9995.0  \n",
       "volvo          13296.25  13415.0  \n",
       "\n",
       "[16 rows x 48 columns]"
      ]
     },
     "execution_count": 32,
     "metadata": {},
     "output_type": "execute_result"
    }
   ],
   "source": [
    "# Quick way to get key metrics - use .describe()\n",
    "company_groups.describe()"
   ]
  },
  {
   "cell_type": "code",
   "execution_count": 34,
   "metadata": {
    "hidden": true,
    "scrolled": false
   },
   "outputs": [
    {
     "data": {
      "image/png": "[encoded data removed]",
      "text/plain": [
       "<Figure size 432x288 with 1 Axes>"
      ]
     },
     "metadata": {
      "needs_background": "light"
     },
     "output_type": "display_data"
    },
    {
     "data": {
      "image/png": "[encoded data removed]",
      "text/plain": [
       "<Figure size 432x288 with 1 Axes>"
      ]
     },
     "metadata": {
      "needs_background": "light"
     },
     "output_type": "display_data"
    },
    {
     "data": {
      "image/png": "[encoded data removed]",
      "text/plain": [
       "<Figure size 432x288 with 1 Axes>"
      ]
     },
     "metadata": {
      "needs_background": "light"
     },
     "output_type": "display_data"
    },
    {
     "data": {
      "image/png": "[encoded data removed]",
      "text/plain": [
       "<Figure size 432x288 with 1 Axes>"
      ]
     },
     "metadata": {
      "needs_background": "light"
     },
     "output_type": "display_data"
    },
    {
     "data": {
      "image/png": "[encoded data removed]",
      "text/plain": [
       "<Figure size 432x288 with 1 Axes>"
      ]
     },
     "metadata": {
      "needs_background": "light"
     },
     "output_type": "display_data"
    },
    {
     "data": {
      "image/png": "[encoded data removed]",
      "text/plain": [
       "<Figure size 432x288 with 1 Axes>"
      ]
     },
     "metadata": {
      "needs_background": "light"
     },
     "output_type": "display_data"
    },
    {
     "data": {
      "image/png": "[encoded data removed]",
      "text/plain": [
       "<Figure size 432x288 with 1 Axes>"
      ]
     },
     "metadata": {
      "needs_background": "light"
     },
     "output_type": "display_data"
    },
    {
     "data": {
      "image/png": "[encoded data removed]",
      "text/plain": [
       "<Figure size 432x288 with 1 Axes>"
      ]
     },
     "metadata": {
      "needs_background": "light"
     },
     "output_type": "display_data"
    },
    {
     "data": {
      "image/png": "[encoded data removed]",
      "text/plain": [
       "<Figure size 432x288 with 1 Axes>"
      ]
     },
     "metadata": {
      "needs_background": "light"
     },
     "output_type": "display_data"
    },
    {
     "data": {
      "image/png": "[encoded data removed]",
      "text/plain": [
       "<Figure size 432x288 with 1 Axes>"
      ]
     },
     "metadata": {
      "needs_background": "light"
     },
     "output_type": "display_data"
    },
    {
     "data": {
      "image/png": "[encoded data removed]",
      "text/plain": [
       "<Figure size 432x288 with 1 Axes>"
      ]
     },
     "metadata": {
      "needs_background": "light"
     },
     "output_type": "display_data"
    },
    {
     "data": {
      "image/png": "[encoded data removed]",
      "text/plain": [
       "<Figure size 432x288 with 1 Axes>"
      ]
     },
     "metadata": {
      "needs_background": "light"
     },
     "output_type": "display_data"
    },
    {
     "data": {
      "image/png": "[encoded data removed]",
      "text/plain": [
       "<Figure size 432x288 with 1 Axes>"
      ]
     },
     "metadata": {
      "needs_background": "light"
     },
     "output_type": "display_data"
    },
    {
     "data": {
      "image/png": "[encoded data removed]",
      "text/plain": [
       "<Figure size 432x288 with 1 Axes>"
      ]
     },
     "metadata": {
      "needs_background": "light"
     },
     "output_type": "display_data"
    },
    {
     "data": {
      "image/png": "[encoded data removed]",
      "text/plain": [
       "<Figure size 432x288 with 1 Axes>"
      ]
     },
     "metadata": {
      "needs_background": "light"
     },
     "output_type": "display_data"
    },
    {
     "data": {
      "image/png": "[encoded data removed]",
      "text/plain": [
       "<Figure size 432x288 with 1 Axes>"
      ]
     },
     "metadata": {
      "needs_background": "light"
     },
     "output_type": "display_data"
    }
   ],
   "source": [
    "# We can also plot this data\n",
    "company_groups.plot(); # each plot corresponds to a groupby index"
   ]
  },
  {
   "cell_type": "markdown",
   "metadata": {
    "hidden": true
   },
   "source": [
    "## Creating different variables within a loop:\n",
    "- Can be done by creating a dictionary!\n",
    "- This dictionary can then be changed to a DataFrame."
   ]
  },
  {
   "cell_type": "code",
   "execution_count": null,
   "metadata": {
    "hidden": true
   },
   "outputs": [],
   "source": [
    "d = {}\n",
    "for i in df.loc[:,'Mjob':'Fjob'].columns:\n",
    "    d[\"{}\".format(i)] = df[i].map(lambda x: x.capitalize())\n",
    "dfd = pd.DataFrame.from_dict(d)\n",
    "dfd"
   ]
  },
  {
   "cell_type": "markdown",
   "metadata": {
    "hidden": true
   },
   "source": [
    "## Changing the datatype of each column:"
   ]
  },
  {
   "cell_type": "code",
   "execution_count": null,
   "metadata": {
    "hidden": true
   },
   "outputs": [],
   "source": [
    "crime.Year = pd.to_datetime(crime.Year, format='%Y')"
   ]
  },
  {
   "cell_type": "markdown",
   "metadata": {
    "hidden": true
   },
   "source": [
    "## Joining two dataframes together:\n",
    "- If identical column names are present, .append()\n",
    "- If one identical column exists, .join()"
   ]
  },
  {
   "cell_type": "code",
   "execution_count": null,
   "metadata": {
    "hidden": true
   },
   "outputs": [],
   "source": [
    "cars = cars1.append(cars2)"
   ]
  },
  {
   "cell_type": "markdown",
   "metadata": {
    "hidden": true
   },
   "source": [
    "## Random arrays"
   ]
  },
  {
   "cell_type": "code",
   "execution_count": null,
   "metadata": {
    "hidden": true
   },
   "outputs": [],
   "source": [
    "import numpy as np\n",
    "rcars = np.random.randint(15000, high=73001, size=398)\n",
    "# Generate an array size 398 of random integers from 15000 to 73000 (notice that the high number is exclusive)\n",
    "cars['rcars'] = rcars  # Add this column to the DataFrame."
   ]
  },
  {
   "cell_type": "code",
   "execution_count": null,
   "metadata": {
    "hidden": true
   },
   "outputs": [],
   "source": []
  },
  {
   "cell_type": "markdown",
   "metadata": {
    "hidden": true
   },
   "source": [
    "## Sets"
   ]
  },
  {
   "cell_type": "markdown",
   "metadata": {
    "hidden": true
   },
   "source": [
    "Table of common operations on sets:\n",
    "\n",
    "| Method        |\tEquivalent |\tResult |\n",
    "| ------                    | ------       | ------    |\n",
    "| s.issubset(t)             |\ts <= t     | test whether every element in s is in t\n",
    "| s.issuperset(t)           |\ts >= t     | test whether every element in t is in s\n",
    "| s.union(t)                |\ts $\\mid$ t | new set with elements from both s and t\n",
    "| s.intersection(t)         |\ts & t      | new set with elements common to s and t\n",
    "| s.difference(t)           |\ts - t \t   | new set with elements in s but not in t\n",
    "| s.symmetric_difference(t) |\ts ^ t      | new set with elements in either s or t but not both"
   ]
  },
  {
   "cell_type": "markdown",
   "metadata": {
    "hidden": true
   },
   "source": [
    "More operations on sets:\n",
    "\n",
    "|Operation                          |\tEquivalent |\tResult|\n",
    "| ------                            | ------       | ------   |\n",
    "|s.update(t)                        | \t$s \\mid t$ \t   |return set s with elements added from t|\n",
    "|s.intersection_update(t)           | \ts &= t     |\treturn set s keeping only elements also found in t|\n",
    "|s.difference_update(t)             |\ts -= t \t   |return set s after removing elements found in t|\n",
    "|s.symmetric_difference_update(t)   |\ts ^= t \t   |return set s with elements from s or t but not both|\n",
    "|s.add(x)                           |\t           |\tadd element x to set s|\n",
    "|s.remove(x)                        |\t           |\tremove x from set s|\n",
    "|s.discard(x)                       |\t           |\tremoves x from set s if present|\n",
    "|s.pop()                            | \t           |\tremove and return an arbitrary element from s|\n",
    "|s.clear()            \t            |  \t           |remove all elements from set s|\n"
   ]
  },
  {
   "cell_type": "code",
   "execution_count": null,
   "metadata": {
    "hidden": true
   },
   "outputs": [],
   "source": []
  },
  {
   "cell_type": "code",
   "execution_count": null,
   "metadata": {
    "hidden": true
   },
   "outputs": [],
   "source": []
  },
  {
   "cell_type": "code",
   "execution_count": null,
   "metadata": {
    "hidden": true
   },
   "outputs": [],
   "source": []
  },
  {
   "cell_type": "markdown",
   "metadata": {
    "heading_collapsed": true
   },
   "source": [
    "# SQL (Structured Query Language)"
   ]
  },
  {
   "cell_type": "markdown",
   "metadata": {
    "hidden": true
   },
   "source": [
    "Sources:\n",
    "- https://www.youtube.com/watch?v=vgIc4ctNFbc&t=3255s&ab_channel=%EC%9D%B4%EC%88%98%EC%95%88%EC%BB%B4%ED%93%A8%ED%84%B0%EC%97%B0%EA%B5%AC%EC%86%8C\n",
    "- https://www.youtube.com/watch?v=7S_tz1z_5bA&ab_channel=ProgrammingwithMosh"
   ]
  },
  {
   "cell_type": "markdown",
   "metadata": {
    "hidden": true
   },
   "source": [
    "- SQL Databases are collections of table.\n",
    "- Each table is similar to a csv or excel file -> 2D objects with specific columns and associated entries organized into rows.\n",
    "- SQL is designed to work with relational data."
   ]
  },
  {
   "cell_type": "markdown",
   "metadata": {
    "hidden": true
   },
   "source": [
    "(picture of SQL flowchart)"
   ]
  },
  {
   "cell_type": "markdown",
   "metadata": {
    "hidden": true
   },
   "source": [
    "- Each rectangle is a table, with table name listed on top. \n",
    "- Some column names have asterisks, which indicates that this is the **Primary Key** for the table (a unique identifier)\n",
    "- The primary key for one table can appear as the **foreign key** in another table - this is how data on different tables is associated in a relational database."
   ]
  },
  {
   "cell_type": "markdown",
   "metadata": {
    "hidden": true
   },
   "source": [
    "Classification of SQL:\n",
    "- DML (Data **Manipulation** Language)\n",
    "    - SELECT, INSERT, UPDATE, DELETE\n",
    "- DDL (Definition)\n",
    "    - CREATE, DROP, ALTER\n",
    "- DCL (Control)\n",
    "    - GRANT, REVOKE, DENY"
   ]
  },
  {
   "cell_type": "markdown",
   "metadata": {
    "hidden": true
   },
   "source": [
    "Commenting on SQL:\n",
    "\n",
    "Begin the comment with a slash and an asterisk (/*). Proceed with the text of the comment. This text can span multiple lines. End the comment with an asterisk and a slash (*/). The opening and terminating characters need not be separated from the text by a space or a line break.\n",
    "\n",
    "Begin the comment with -- (two hyphens). Proceed with the text of the comment. This text cannot extend to a new line. End the comment with a line break."
   ]
  },
  {
   "cell_type": "code",
   "execution_count": null,
   "metadata": {
    "hidden": true
   },
   "outputs": [],
   "source": [
    "SHOW DATABASES;  # Shows the name of DB's within the server\n",
    "USE world;  # Chooses the database to be used - unless the USE statement is used again, all queries will be executed within that DB\n",
    "SHOW TABLES;  # Shows all the table names of the database\n",
    "SHOW TABLE STATUS;  # Gives detailed information along with table names\n",
    "DESC city;  # Describes which columns are in the table 'city' - can also be written as DESCRIBE city;"
   ]
  },
  {
   "cell_type": "code",
   "execution_count": null,
   "metadata": {
    "hidden": true
   },
   "outputs": [],
   "source": [
    "# Lab 1: Show country table and countrylanguage table.\n",
    "DESC country;\n",
    "DESC countrylanguage;"
   ]
  },
  {
   "cell_type": "code",
   "execution_count": null,
   "metadata": {
    "hidden": true
   },
   "outputs": [],
   "source": [
    "SELECT [row] \n",
    "FROM [table_name]  \n",
    "# Most frequently used queries in order to get desire data from the database\n",
    "\n",
    "SELECT * \n",
    "FROM city  \n",
    "# Select all rows, from the 'city' table.\n",
    "\n",
    "SELECT Name, Population \n",
    "FROM city  \n",
    "# Prints the Name and Population columns from the 'city' table.\n",
    "\n",
    "SELECT *\n",
    "FROM city\n",
    "WHERE Population >= 80000\n",
    "# Prints the rows of cities with population greater than 80k\n",
    "# Can use conditionals (=, !=, =<, etc.) (AND, OR, NOT)"
   ]
  },
  {
   "cell_type": "code",
   "execution_count": null,
   "metadata": {
    "hidden": true
   },
   "outputs": [],
   "source": [
    "# Lab 2:\n",
    "SELECT *\n",
    "FROM city\n",
    "WHERE countrycode = 'KOR';\n",
    "\n",
    "SELECT *\n",
    "FROM city\n",
    "WHERE countrycode = 'KOR' AND Population >= 1000000;"
   ]
  },
  {
   "cell_type": "code",
   "execution_count": null,
   "metadata": {
    "hidden": true
   },
   "outputs": [],
   "source": [
    "SELECT *\n",
    "FROM city\n",
    "WHERE Population BETWEEN 80000 AND 70000\n",
    "# Use BETWEEN for continuous variables\n",
    "\n",
    "SELECT *\n",
    "FROM city\n",
    "WHERE Name IN ['Seoul', 'New York', 'Tokyo'];\n",
    "# Use IN for discrete variables"
   ]
  },
  {
   "cell_type": "code",
   "execution_count": null,
   "metadata": {
    "hidden": true
   },
   "outputs": [],
   "source": [
    "# Lab 3:\n",
    "SELECT cityname\n",
    "FROM city\n",
    "WHERE countrycode IN ['KOR', 'USA', 'JPN'];"
   ]
  },
  {
   "cell_type": "code",
   "execution_count": null,
   "metadata": {
    "hidden": true
   },
   "outputs": [],
   "source": [
    "SELECT *\n",
    "FROM city\n",
    "WHERE countrycode LIKE 'KO_';\n",
    "# LIKE is used to search for strings.\n",
    "# Attaching % allows for any number of characters to be filled, whereas _ allows for a single character.\n",
    "# If your string contains % or _, you must use ESCAPE clause.\n",
    "# ex: LIKE '10\\%%' ESCAPE '\\'  ===> Searches for '10%'\n",
    "\n",
    "# SubQuery\n",
    "SELECT *\n",
    "FROM city\n",
    "WHERE countrycode = (SELECT countrycode\n",
    "                     FROM city\n",
    "                     WHERE name = 'Seoul');\n",
    "# The result of the subquery is 'KOR'\n",
    "# If the result of the subquery is more than 1, error.\n",
    "\n",
    "SELECT *\n",
    "FROM city\n",
    "WHERE population > ANY(SELECT population\n",
    "                       FROM city\n",
    "                       WHERE district = 'New York');\n",
    "# Select cities of population that is greater than any of the cities in New York State.\n",
    "# Can be interchanged with SOME\n",
    "# Replace with ALL to output only those that have higher than all of the individual cities in NY.\n",
    "\n",
    "SELECT *\n",
    "FROM city\n",
    "ORDER BY countrycode ASC, population DESC;\n",
    "# Controls the order of the output. Default is ASC\n",
    "# Can combine multiple ORDER BY's by separating them with commas"
   ]
  },
  {
   "cell_type": "code",
   "execution_count": null,
   "metadata": {
    "hidden": true
   },
   "outputs": [],
   "source": [
    "# Lab 4:\n",
    "SELECT *\n",
    "FROM city\n",
    "WHERE countrycode = 'KOR'\n",
    "ORDER BY population DESC;\n",
    "\n",
    "SELECT *\n",
    "FROM country\n",
    "ORDER BY size DESC;"
   ]
  },
  {
   "cell_type": "code",
   "execution_count": null,
   "metadata": {
    "hidden": true
   },
   "outputs": [],
   "source": [
    "SELECT DISTINCT countrycode\n",
    "FROM city;\n",
    "# Selects all distinct country codes from the cities table.\n",
    "\n",
    "SELECT *\n",
    "FROM city\n",
    "ORDER BY population DESC\n",
    "LIMIT 100;\n",
    "# Sets the number of desired output rows\n",
    "\n",
    "SELECT countrycode, MAX(population) AS 'Max'\n",
    "FROM city\n",
    "GROUP BY countrycode;\n",
    "# Aggregates by the aggregate function (i.e. MAX, MIN, COUNT, AVG, COUNT(DISTINCT), STDEV, VARIANCE)\n",
    "# AS sets the alias for the column that contains all the max populations \n",
    "# (by default, the column name might be something like MAX(population))"
   ]
  },
  {
   "cell_type": "code",
   "execution_count": null,
   "metadata": {
    "hidden": true
   },
   "outputs": [],
   "source": [
    "# Lab 5:\n",
    "SELECT COUNT(Name)\n",
    "FROM city;\n",
    "\n",
    "# Easier way:\n",
    "SELECT COUNT(*)\n",
    "FROM city;\n",
    "\n",
    "SELECT AVG(population)\n",
    "FROM city;"
   ]
  },
  {
   "cell_type": "code",
   "execution_count": null,
   "metadata": {
    "hidden": true
   },
   "outputs": [],
   "source": [
    "SELECT countrycode, MAX(population)\n",
    "FROM city\n",
    "GROUP BY countrycode\n",
    "HAVING MAX(population) > 80000;\n",
    "# HAVING clause is used to reinforce conditions on a GROUP BY statement (aggregate function) - must come after GROUP BY\n",
    "\n",
    "SELECT countrycode, name, MAX(population)\n",
    "FROM city\n",
    "GROUP BY countrycode name WITH ROLLUP;\n",
    "# Shows the components of the groupby as well\n",
    "\n",
    "SELECT *\n",
    "FROM city\n",
    "JOIN country\n",
    "ON city.countrycode = country.code;\n",
    "# Joins multiple tables based on common key"
   ]
  },
  {
   "cell_type": "code",
   "execution_count": null,
   "metadata": {
    "hidden": true
   },
   "outputs": [],
   "source": [
    "# Lab 6:\n",
    "SELECT *\n",
    "FROM city\n",
    "JOIN country\n",
    "ON city.countrycode = country.code\n",
    "JOIN countrylanguage\n",
    "ON city.countrycode = countrylanguage.countrycode;"
   ]
  },
  {
   "cell_type": "markdown",
   "metadata": {
    "heading_collapsed": true,
    "hidden": true
   },
   "source": [
    "## MYSQL Built-in Functions"
   ]
  },
  {
   "cell_type": "code",
   "execution_count": null,
   "metadata": {
    "hidden": true
   },
   "outputs": [],
   "source": [
    "# MySQL Built-in Functions:\n",
    "\n",
    "SELECT LENGTH('123456789');\n",
    "# Prints the lengh of input string\n",
    "\n",
    "SELECT CONCAT('My', 'sql Op', 'en Source'),\n",
    "CONCAT ('MySQL', NULL, 'OpenSource');\n",
    "# Concatenates all strings into a single string\n",
    "# Will return NULL if any of the components are NULL\n",
    "\n",
    "SELECT LOCATE('abc', 'abababcbacdABCDabcAB'),\n",
    "LOCATE('abc', 'abababcbacdABCDabcAB', 7);\n",
    "# \n",
    "\n",
    "SELECT\n",
    "LEFT('MySQL is an open source', 5),\n",
    "RIGHT('MySQL is an open source', 6);\n",
    "# \n",
    "\n",
    "SELECT\n",
    "LOWER('MySQL is an open source'),\n",
    "UPPER('MySQL is an open source');\n",
    "# \n",
    "\n",
    "SELECT REPLACE('MSSQL', 'MS', 'My');\n",
    "# \n",
    "\n",
    "SELECT TRIM('       ##MySQL       '),\n",
    "TRIM(LEADING '       ##MySQL       '),\n",
    "TRIM(TRAILING '       ##MySQL       ');\n",
    "# \n",
    "\n",
    "SELECT FORMAT(123456789.12456, 3);\n",
    "# "
   ]
  },
  {
   "cell_type": "code",
   "execution_count": null,
   "metadata": {
    "hidden": true
   },
   "outputs": [],
   "source": [
    "SELECT\n",
    "FLOOR(10.95),\n",
    "CEIL(11.01),\n",
    "ROUND(10.49);\n",
    "# \n",
    "\n",
    "SELECT\n",
    "SQRT(4),\n",
    "POW(2,3),\n",
    "EXP(3),\n",
    "LOG(3);\n",
    "# \n",
    "\n",
    "SELECT\n",
    "SIN(PI()/2),\n",
    "COS(PI()),\n",
    "TAN(PI()/4);\n",
    "# \n",
    "\n",
    "SELECT\n",
    "ABS(-3),\n",
    "ROUND(RAND()*100, 0);\n",
    "# "
   ]
  },
  {
   "cell_type": "code",
   "execution_count": null,
   "metadata": {
    "hidden": true
   },
   "outputs": [],
   "source": [
    "SELECT\n",
    "NOW(),\n",
    "CURDATE(),\n",
    "CURTIME();\n",
    "# \n",
    "\n",
    "SELECT\n",
    "DATE(),\n",
    "MONTH(),\n",
    "DAY(),\n",
    "HOUR(),\n",
    "MINUTE(),\n",
    "SECOND();\n",
    "# \n",
    "\n",
    "SELECT\n",
    "MONTHNAME(),\n",
    "DAYNAME();\n",
    "# \n",
    "\n",
    "SELECT\n",
    "DAYOFWEEK(),\n",
    "DAYOFMONTH(),\n",
    "DAYOFYEAR();\n",
    "# \n",
    "\n",
    "SELECT DATE_FORMAT()\n",
    "# "
   ]
  },
  {
   "cell_type": "markdown",
   "metadata": {
    "heading_collapsed": true,
    "hidden": true
   },
   "source": [
    "## Advanced SQL"
   ]
  },
  {
   "cell_type": "code",
   "execution_count": null,
   "metadata": {
    "hidden": true
   },
   "outputs": [],
   "source": []
  },
  {
   "cell_type": "code",
   "execution_count": null,
   "metadata": {
    "hidden": true
   },
   "outputs": [],
   "source": []
  },
  {
   "cell_type": "markdown",
   "metadata": {
    "heading_collapsed": true
   },
   "source": [
    "# Interview Prep - Python Functions"
   ]
  },
  {
   "cell_type": "code",
   "execution_count": 17,
   "metadata": {
    "hidden": true
   },
   "outputs": [],
   "source": [
    "def stdev_function(list_of_dict):\n",
    "    output_dict = {}\n",
    "    for dictionary in list_of_dict:\n",
    "        avg = sum(dictionary['values']) / len(dictionary['values'])\n",
    "        output_dict[dictionary['key']] = (sum([abs(x - avg)**2 for x in dictionary['values']]) / len(dictionary['values']))**0.5\n",
    "    return output_dict"
   ]
  },
  {
   "cell_type": "code",
   "execution_count": 18,
   "metadata": {
    "hidden": true
   },
   "outputs": [],
   "source": [
    "input_dict = [\n",
    "    {\n",
    "        'key': 'list1',\n",
    "        'values': [4,5,2,3,4,5,2,3],\n",
    "    },\n",
    "    {\n",
    "        'key': 'list2',\n",
    "        'values': [1,1,34,12,40,3,9,7],\n",
    "    }\n",
    "]\n"
   ]
  },
  {
   "cell_type": "code",
   "execution_count": 19,
   "metadata": {
    "hidden": true
   },
   "outputs": [
    {
     "data": {
      "text/plain": [
       "{'list1': 1.118033988749895, 'list2': 14.185710239533304}"
      ]
     },
     "execution_count": 19,
     "metadata": {},
     "output_type": "execute_result"
    }
   ],
   "source": [
    "stdev_function(input_dict)"
   ]
  },
  {
   "cell_type": "code",
   "execution_count": null,
   "metadata": {
    "hidden": true
   },
   "outputs": [],
   "source": [
    "def numtostr(num):\n",
    "    unit = ['one', 'two', 'three', 'four', 'five', 'six', 'seven', 'eight', 'nine']\n",
    "    teens = ['eleven', 'twelve', 'thirteen', 'fourteen', 'fifteen', 'sixteen', 'seventeen', 'eighteen', 'nineteen']\n",
    "    tens = ['ten' 'twenty', 'thirty', 'fourty', 'fifty', 'sixty', 'seventy', 'eighty', 'ninety']\n",
    "    magnitude = ['hundred', 'thousand', 'million']\n",
    "    string = str(num)\n",
    "    if len(string) >= 3:\n",
    "        hundreds_output = f'{unit[int(string[0])-1]} {magnitude[0]} ' "
   ]
  },
  {
   "cell_type": "markdown",
   "metadata": {},
   "source": [
    "# Statistics"
   ]
  },
  {
   "cell_type": "markdown",
   "metadata": {
    "heading_collapsed": true
   },
   "source": [
    "## Probability Concepts:"
   ]
  },
  {
   "cell_type": "markdown",
   "metadata": {
    "hidden": true
   },
   "source": [
    "- A **random experiment** is a process by which we observe something uncertain.\n",
    "- An outcome is a result of a **random experiment**. \n",
    "- The set of all possible outcomes is called the **sample space**.\n",
    "- The **universal set** is your sample space: it is the universe in which your possible outcomes are listed as elements.\n",
    "- The **event space** is a subset of the sample space."
   ]
  },
  {
   "cell_type": "markdown",
   "metadata": {
    "hidden": true
   },
   "source": [
    "hypothesis testing steps:\n",
    "1. set up your hypotheses\n",
    "2. pick your test based on your experiment\n",
    "3. pick your alpha\n",
    "4. calculate your test statistic\n",
    "5. find your p-value\n",
    "6. interpret (if p < α, reject Ho )"
   ]
  },
  {
   "cell_type": "markdown",
   "metadata": {
    "hidden": true
   },
   "source": [
    "Event Types:\n",
    "- Events  and  are **independent** when the occurrence of A has no effect on whether B will occur (or not).\n",
    "    - Formally, events A and B are independent if: P(A or B) = P(A)P(B)\n",
    "- Events  and  are **disjoint** if A occurring means that B cannot occur.\n",
    "    - Disjoint events are mutually exclusive. P(A and B) is empty.\n",
    "- Events  and  are **dependent** when the occurrence of A somehow has an effect on whether B will occur (or not).\n",
    "    - When taking an orange or purple marble out of a jar, if the picked marble is not replaced, it will affect the probability of the next draw.\n",
    "    \n",
    "Conditional Probability - Probability of something occuring, given that something has already happened.\n",
    "- Let's say that P(A) is the event we are interested in, and this event depends on a certain event B that has happened.\n",
    "- The conditional probability (Probability of A given B) can be written as:\n",
    "     - P(A|B) = P(A&B)/P(B) (Think of it as the sample size being reduced to just B).\n",
    "\n",
    "Probability Rules:\n",
    "- **Product Rule**: The probability that Events A and B both occur is equal to the probability that Event A occurs times the probability that Event B occurs, given that A has occurred.\n",
    "    - P(A and B) = P(A)P(B|A) = P(B)P(A|B)\n",
    "- **Chain Rule**: (also called the general product rule) permits the calculation of any member of the joint distribution of a set of random variables using only conditional probabilities.\n",
    "    - Recall the product rule - then try expanding it to three variables (Apply the product rule twice).\n",
    "    - P(A and B and C) = P(A and (B and C)) = P(A|B and C)P(B and C) = P(A|B and C)P(B|C)P(C)\n",
    "- **Complement of an event**:\n",
    "    - P(A) = 1 - P(A'), where A' is the complement of A.\n",
    "    - Similarly, extending this to conditional probabilities: P(A|B) + P(A'|B) = 1"
   ]
  },
  {
   "cell_type": "markdown",
   "metadata": {
    "hidden": true
   },
   "source": [
    "the Law of Total Probability can be used to calculate P(B). The law requires that you have a set of disjoint events A(i) that collectively \"cover\" the event B. Then, instead of calculating B directly, you add up the intersection of B with each of the events A(i)."
   ]
  },
  {
   "cell_type": "code",
   "execution_count": null,
   "metadata": {
    "hidden": true
   },
   "outputs": [],
   "source": []
  },
  {
   "cell_type": "code",
   "execution_count": null,
   "metadata": {
    "hidden": true
   },
   "outputs": [],
   "source": []
  },
  {
   "cell_type": "code",
   "execution_count": null,
   "metadata": {
    "hidden": true
   },
   "outputs": [],
   "source": []
  },
  {
   "cell_type": "markdown",
   "metadata": {},
   "source": [
    "# Machine Learning"
   ]
  },
  {
   "cell_type": "markdown",
   "metadata": {},
   "source": [
    "## Overview of ML Algorithms and how they work"
   ]
  },
  {
   "cell_type": "markdown",
   "metadata": {},
   "source": [
    "Linear Regression:\n",
    "\n",
    "Logistic Regression: \n",
    "\n",
    "KNN: \n",
    "\n",
    "Naive Bayes: \n",
    "\n",
    "Decision Trees: \n",
    "\n",
    "Bagged Trees: \n",
    "\n",
    "Random Forests: \n",
    "\n",
    "Adaboost: \n",
    "\n",
    "Gradient Boosting: \n",
    "\n",
    "XGBoost: \n",
    "\n",
    "SVM: "
   ]
  },
  {
   "cell_type": "code",
   "execution_count": null,
   "metadata": {},
   "outputs": [],
   "source": []
  },
  {
   "cell_type": "code",
   "execution_count": null,
   "metadata": {},
   "outputs": [],
   "source": []
  },
  {
   "cell_type": "code",
   "execution_count": null,
   "metadata": {},
   "outputs": [],
   "source": []
  },
  {
   "cell_type": "markdown",
   "metadata": {},
   "source": [
    "## Linear Regression"
   ]
  },
  {
   "cell_type": "markdown",
   "metadata": {},
   "source": [
    "### Module 18: Linear Regression"
   ]
  },
  {
   "cell_type": "markdown",
   "metadata": {},
   "source": [
    "### Statistical Learning Theory"
   ]
  },
  {
   "cell_type": "markdown",
   "metadata": {},
   "source": [
    "- In Statistical Learning Theory, the main idea is to construct a model to draw certain conclusions from data, and next, to use this model to make predictions.\n",
    "- A statistical model can be thought of as some kind of a transformation that helps us express dependent variables as a function of one or more independent variables."
   ]
  },
  {
   "cell_type": "markdown",
   "metadata": {},
   "source": [
    "- A statistical model defines a relationship between a dependent and an independent variable.\n",
    "- A model is expressed as a mathematical equation showing the relationship between dependent and independent variables.\n",
    "- Model Parameters are the coefficients of the model equation for estimating the output.\n",
    "- A statistical learning approach would help us learn these parameters so we have a clear description of their relationship which we can replicate and analyze under different circumstances."
   ]
  },
  {
   "cell_type": "markdown",
   "metadata": {},
   "source": [
    "- As the data which is available to us for modeling is finite, the available data needs to be used very effectively to build and validate a model. Validation of the model usually makes the model more generalizable for unseen situations.\n",
    "- if we over-train the model on the training data, we say that the model is not capable of generalizing.\n",
    "- In order to create good predictive models in machine learning that are capable of generalizing, one needs to know when to stop training the model so that it doesn't over-fit."
   ]
  },
  {
   "cell_type": "markdown",
   "metadata": {},
   "source": [
    "- Model validation is a process of controlling overfitting and allows a higher degree of generalizability.\n",
    "- Here is how we perform validation, in its simplest form:\n",
    "    - Split the data into two parts with a 70/30, 80/20 or a similar split\n",
    "    - Use the larger part for training so the model learns from it. This set of data is normally called the Training Data?\n",
    "    - Use the smaller part for testing the model. This is data is not being used during the model learning process and used only for testing the performance of a learned model. This dataset is called as the Testing Data."
   ]
  },
  {
   "cell_type": "markdown",
   "metadata": {},
   "source": [
    "- In statistical learning, if the model has learned well from the training data, it will perform well on both training data and test data. You can then use the test data to calculate the accuracy, which is assessed based on how close it has estimated the output to the actual value.\n",
    "- A loss function evaluates how well your model represents the relationship between data variables.\n",
    "- The individual losses, which is essentially the vertical distance between the individual data points and the line are taken into account to calculate the overall model loss."
   ]
  },
  {
   "cell_type": "markdown",
   "metadata": {},
   "source": [
    "### Simple Linear Regression"
   ]
  },
  {
   "cell_type": "markdown",
   "metadata": {},
   "source": [
    "- Regression Analysis is a parametric technique meaning a set of parameters are used to predict the value of an unknown target variable (or dependent variable) $y$ based on one or more of known input features (or independent variables, predictors), often denoted by $x$.\n",
    "- In general, regression analysis helps us in the following ways:\n",
    "    - Finding an association or relationship between certain phenomena or variables\n",
    "    - Identifying which variables contribute more towards the outcomes\n",
    "    - Prediction of future observations"
   ]
  },
  {
   "cell_type": "markdown",
   "metadata": {},
   "source": [
    "### Coefficient of Determination"
   ]
  },
  {
   "cell_type": "markdown",
   "metadata": {},
   "source": []
  },
  {
   "cell_type": "markdown",
   "metadata": {},
   "source": []
  },
  {
   "cell_type": "markdown",
   "metadata": {},
   "source": []
  },
  {
   "cell_type": "markdown",
   "metadata": {},
   "source": [
    "### Assumptions for Linear Regression"
   ]
  },
  {
   "cell_type": "markdown",
   "metadata": {},
   "source": []
  },
  {
   "cell_type": "markdown",
   "metadata": {},
   "source": []
  },
  {
   "cell_type": "markdown",
   "metadata": {},
   "source": []
  },
  {
   "cell_type": "markdown",
   "metadata": {},
   "source": [
    "### Ordinary Least Squares in Statsmodels (OLS)"
   ]
  },
  {
   "cell_type": "markdown",
   "metadata": {},
   "source": []
  },
  {
   "cell_type": "markdown",
   "metadata": {},
   "source": []
  },
  {
   "cell_type": "markdown",
   "metadata": {},
   "source": [
    "### Regression Diagnostics in Statsmodels"
   ]
  },
  {
   "cell_type": "markdown",
   "metadata": {},
   "source": []
  },
  {
   "cell_type": "markdown",
   "metadata": {},
   "source": []
  },
  {
   "cell_type": "markdown",
   "metadata": {},
   "source": []
  },
  {
   "cell_type": "markdown",
   "metadata": {},
   "source": []
  },
  {
   "cell_type": "markdown",
   "metadata": {},
   "source": [
    "### Trials"
   ]
  },
  {
   "cell_type": "code",
   "execution_count": 2,
   "metadata": {},
   "outputs": [],
   "source": [
    "import pandas as pd\n",
    "import numpy as np\n",
    "import matplotlib.pyplot as plt\n",
    "import seaborn as sns\n",
    "import statsmodels.api as sm"
   ]
  },
  {
   "cell_type": "code",
   "execution_count": 3,
   "metadata": {},
   "outputs": [
    {
     "data": {
      "text/html": [
       "<div>\n",
       "<style scoped>\n",
       "    .dataframe tbody tr th:only-of-type {\n",
       "        vertical-align: middle;\n",
       "    }\n",
       "\n",
       "    .dataframe tbody tr th {\n",
       "        vertical-align: top;\n",
       "    }\n",
       "\n",
       "    .dataframe thead th {\n",
       "        text-align: right;\n",
       "    }\n",
       "</style>\n",
       "<table border=\"1\" class=\"dataframe\">\n",
       "  <thead>\n",
       "    <tr style=\"text-align: right;\">\n",
       "      <th></th>\n",
       "      <th>mpg</th>\n",
       "      <th>cylinders</th>\n",
       "      <th>displacement</th>\n",
       "      <th>horsepower</th>\n",
       "      <th>weight</th>\n",
       "      <th>acceleration</th>\n",
       "      <th>year</th>\n",
       "      <th>origin</th>\n",
       "      <th>name</th>\n",
       "    </tr>\n",
       "  </thead>\n",
       "  <tbody>\n",
       "    <tr>\n",
       "      <th>0</th>\n",
       "      <td>18.0</td>\n",
       "      <td>8</td>\n",
       "      <td>307.0</td>\n",
       "      <td>130.0</td>\n",
       "      <td>3504</td>\n",
       "      <td>12.0</td>\n",
       "      <td>70</td>\n",
       "      <td>1</td>\n",
       "      <td>chevrolet chevelle malibu</td>\n",
       "    </tr>\n",
       "    <tr>\n",
       "      <th>1</th>\n",
       "      <td>15.0</td>\n",
       "      <td>8</td>\n",
       "      <td>350.0</td>\n",
       "      <td>165.0</td>\n",
       "      <td>3693</td>\n",
       "      <td>11.5</td>\n",
       "      <td>70</td>\n",
       "      <td>1</td>\n",
       "      <td>buick skylark 320</td>\n",
       "    </tr>\n",
       "    <tr>\n",
       "      <th>2</th>\n",
       "      <td>18.0</td>\n",
       "      <td>8</td>\n",
       "      <td>318.0</td>\n",
       "      <td>150.0</td>\n",
       "      <td>3436</td>\n",
       "      <td>11.0</td>\n",
       "      <td>70</td>\n",
       "      <td>1</td>\n",
       "      <td>plymouth satellite</td>\n",
       "    </tr>\n",
       "    <tr>\n",
       "      <th>3</th>\n",
       "      <td>16.0</td>\n",
       "      <td>8</td>\n",
       "      <td>304.0</td>\n",
       "      <td>150.0</td>\n",
       "      <td>3433</td>\n",
       "      <td>12.0</td>\n",
       "      <td>70</td>\n",
       "      <td>1</td>\n",
       "      <td>amc rebel sst</td>\n",
       "    </tr>\n",
       "    <tr>\n",
       "      <th>4</th>\n",
       "      <td>17.0</td>\n",
       "      <td>8</td>\n",
       "      <td>302.0</td>\n",
       "      <td>140.0</td>\n",
       "      <td>3449</td>\n",
       "      <td>10.5</td>\n",
       "      <td>70</td>\n",
       "      <td>1</td>\n",
       "      <td>ford torino</td>\n",
       "    </tr>\n",
       "    <tr>\n",
       "      <th>...</th>\n",
       "      <td>...</td>\n",
       "      <td>...</td>\n",
       "      <td>...</td>\n",
       "      <td>...</td>\n",
       "      <td>...</td>\n",
       "      <td>...</td>\n",
       "      <td>...</td>\n",
       "      <td>...</td>\n",
       "      <td>...</td>\n",
       "    </tr>\n",
       "    <tr>\n",
       "      <th>392</th>\n",
       "      <td>27.0</td>\n",
       "      <td>4</td>\n",
       "      <td>140.0</td>\n",
       "      <td>86.0</td>\n",
       "      <td>2790</td>\n",
       "      <td>15.6</td>\n",
       "      <td>82</td>\n",
       "      <td>1</td>\n",
       "      <td>ford mustang gl</td>\n",
       "    </tr>\n",
       "    <tr>\n",
       "      <th>393</th>\n",
       "      <td>44.0</td>\n",
       "      <td>4</td>\n",
       "      <td>97.0</td>\n",
       "      <td>52.0</td>\n",
       "      <td>2130</td>\n",
       "      <td>24.6</td>\n",
       "      <td>82</td>\n",
       "      <td>2</td>\n",
       "      <td>vw pickup</td>\n",
       "    </tr>\n",
       "    <tr>\n",
       "      <th>394</th>\n",
       "      <td>32.0</td>\n",
       "      <td>4</td>\n",
       "      <td>135.0</td>\n",
       "      <td>84.0</td>\n",
       "      <td>2295</td>\n",
       "      <td>11.6</td>\n",
       "      <td>82</td>\n",
       "      <td>1</td>\n",
       "      <td>dodge rampage</td>\n",
       "    </tr>\n",
       "    <tr>\n",
       "      <th>395</th>\n",
       "      <td>28.0</td>\n",
       "      <td>4</td>\n",
       "      <td>120.0</td>\n",
       "      <td>79.0</td>\n",
       "      <td>2625</td>\n",
       "      <td>18.6</td>\n",
       "      <td>82</td>\n",
       "      <td>1</td>\n",
       "      <td>ford ranger</td>\n",
       "    </tr>\n",
       "    <tr>\n",
       "      <th>396</th>\n",
       "      <td>31.0</td>\n",
       "      <td>4</td>\n",
       "      <td>119.0</td>\n",
       "      <td>82.0</td>\n",
       "      <td>2720</td>\n",
       "      <td>19.4</td>\n",
       "      <td>82</td>\n",
       "      <td>1</td>\n",
       "      <td>chevy s-10</td>\n",
       "    </tr>\n",
       "  </tbody>\n",
       "</table>\n",
       "<p>397 rows × 9 columns</p>\n",
       "</div>"
      ],
      "text/plain": [
       "      mpg  cylinders  displacement  horsepower  weight  acceleration  year  \\\n",
       "0    18.0          8         307.0       130.0    3504          12.0    70   \n",
       "1    15.0          8         350.0       165.0    3693          11.5    70   \n",
       "2    18.0          8         318.0       150.0    3436          11.0    70   \n",
       "3    16.0          8         304.0       150.0    3433          12.0    70   \n",
       "4    17.0          8         302.0       140.0    3449          10.5    70   \n",
       "..    ...        ...           ...         ...     ...           ...   ...   \n",
       "392  27.0          4         140.0        86.0    2790          15.6    82   \n",
       "393  44.0          4          97.0        52.0    2130          24.6    82   \n",
       "394  32.0          4         135.0        84.0    2295          11.6    82   \n",
       "395  28.0          4         120.0        79.0    2625          18.6    82   \n",
       "396  31.0          4         119.0        82.0    2720          19.4    82   \n",
       "\n",
       "     origin                       name  \n",
       "0         1  chevrolet chevelle malibu  \n",
       "1         1          buick skylark 320  \n",
       "2         1         plymouth satellite  \n",
       "3         1              amc rebel sst  \n",
       "4         1                ford torino  \n",
       "..      ...                        ...  \n",
       "392       1            ford mustang gl  \n",
       "393       2                  vw pickup  \n",
       "394       1              dodge rampage  \n",
       "395       1                ford ranger  \n",
       "396       1                 chevy s-10  \n",
       "\n",
       "[397 rows x 9 columns]"
      ]
     },
     "execution_count": 3,
     "metadata": {},
     "output_type": "execute_result"
    }
   ],
   "source": [
    "car_df = pd.read_csv('http://faculty.marshall.usc.edu/gareth-james/ISL/Auto.csv', na_values='?')\n",
    "car_df"
   ]
  },
  {
   "cell_type": "code",
   "execution_count": 4,
   "metadata": {},
   "outputs": [
    {
     "data": {
      "image/png": "[encoded data removed]",
      "text/plain": [
       "<Figure size 1152x216 with 4 Axes>"
      ]
     },
     "metadata": {
      "needs_background": "light"
     },
     "output_type": "display_data"
    }
   ],
   "source": [
    "import matplotlib.pyplot as plt\n",
    "%matplotlib inline\n",
    "\n",
    "fig, axes = plt.subplots(nrows=1, ncols=4, figsize=(16,3))\n",
    "\n",
    "for xcol, ax in zip(['acceleration', 'displacement', 'horsepower', 'weight'], axes):\n",
    "    car_df.plot(kind='scatter', x=xcol, y='mpg', ax=ax, alpha=0.4, color='b')"
   ]
  },
  {
   "cell_type": "code",
   "execution_count": 5,
   "metadata": {},
   "outputs": [
    {
     "data": {
      "image/png": "[encoded data removed]",
      "text/plain": [
       "<Figure size 864x216 with 3 Axes>"
      ]
     },
     "metadata": {
      "needs_background": "light"
     },
     "output_type": "display_data"
    }
   ],
   "source": [
    "fig, axes = plt.subplots(nrows=1, ncols=3, figsize=(12,3))\n",
    "\n",
    "for xcol, ax in zip([ 'cylinders', 'year', 'origin'], axes):\n",
    "    car_df.plot(kind='scatter', x=xcol, y='mpg', ax=ax, alpha=0.4, color='b')"
   ]
  },
  {
   "cell_type": "code",
   "execution_count": 6,
   "metadata": {},
   "outputs": [
    {
     "data": {
      "text/plain": [
       "array([<matplotlib.axes._subplots.AxesSubplot object at 0x7fbb161cef60>,\n",
       "       <matplotlib.axes._subplots.AxesSubplot object at 0x7fbb16240400>,\n",
       "       <matplotlib.axes._subplots.AxesSubplot object at 0x7fbb1633c978>],\n",
       "      dtype=object)"
      ]
     },
     "execution_count": 6,
     "metadata": {},
     "output_type": "execute_result"
    }
   ],
   "source": [
    "axes"
   ]
  },
  {
   "cell_type": "code",
   "execution_count": 7,
   "metadata": {
    "scrolled": false
   },
   "outputs": [
    {
     "data": {
      "image/png": "[encoded data removed]",
      "text/plain": [
       "<Figure size 864x216 with 3 Axes>"
      ]
     },
     "execution_count": 7,
     "metadata": {},
     "output_type": "execute_result"
    }
   ],
   "source": [
    "fig"
   ]
  },
  {
   "cell_type": "code",
   "execution_count": null,
   "metadata": {},
   "outputs": [],
   "source": []
  },
  {
   "cell_type": "code",
   "execution_count": null,
   "metadata": {},
   "outputs": [],
   "source": []
  },
  {
   "cell_type": "code",
   "execution_count": null,
   "metadata": {},
   "outputs": [],
   "source": []
  },
  {
   "cell_type": "markdown",
   "metadata": {},
   "source": [
    "# Advanced Concepts"
   ]
  },
  {
   "cell_type": "markdown",
   "metadata": {},
   "source": [
    "## Time Series"
   ]
  },
  {
   "cell_type": "code",
   "execution_count": 18,
   "metadata": {},
   "outputs": [
    {
     "data": {
      "text/html": [
       "<div>\n",
       "<style scoped>\n",
       "    .dataframe tbody tr th:only-of-type {\n",
       "        vertical-align: middle;\n",
       "    }\n",
       "\n",
       "    .dataframe tbody tr th {\n",
       "        vertical-align: top;\n",
       "    }\n",
       "\n",
       "    .dataframe thead th {\n",
       "        text-align: right;\n",
       "    }\n",
       "</style>\n",
       "<table border=\"1\" class=\"dataframe\">\n",
       "  <thead>\n",
       "    <tr style=\"text-align: right;\">\n",
       "      <th></th>\n",
       "      <th>Date Offset</th>\n",
       "      <th>Frequency String</th>\n",
       "      <th>Description</th>\n",
       "    </tr>\n",
       "  </thead>\n",
       "  <tbody>\n",
       "    <tr>\n",
       "      <th>0</th>\n",
       "      <td>DateOffset</td>\n",
       "      <td>None</td>\n",
       "      <td>Generic offset class, defaults to absolute 24 ...</td>\n",
       "    </tr>\n",
       "    <tr>\n",
       "      <th>1</th>\n",
       "      <td>BDay or BusinessDay</td>\n",
       "      <td>'B'</td>\n",
       "      <td>business day (weekday)</td>\n",
       "    </tr>\n",
       "    <tr>\n",
       "      <th>2</th>\n",
       "      <td>CDay or CustomBusinessDay</td>\n",
       "      <td>'C'</td>\n",
       "      <td>custom business day</td>\n",
       "    </tr>\n",
       "    <tr>\n",
       "      <th>3</th>\n",
       "      <td>Week</td>\n",
       "      <td>'W'</td>\n",
       "      <td>one week, optionally anchored on a day of the ...</td>\n",
       "    </tr>\n",
       "    <tr>\n",
       "      <th>4</th>\n",
       "      <td>WeekOfMonth</td>\n",
       "      <td>'WOM'</td>\n",
       "      <td>the x-th day of the y-th week of each month</td>\n",
       "    </tr>\n",
       "    <tr>\n",
       "      <th>5</th>\n",
       "      <td>LastWeekOfMonth</td>\n",
       "      <td>'LWOM'</td>\n",
       "      <td>the x-th day of the last week of each month</td>\n",
       "    </tr>\n",
       "    <tr>\n",
       "      <th>6</th>\n",
       "      <td>MonthEnd</td>\n",
       "      <td>'M'</td>\n",
       "      <td>calendar month end</td>\n",
       "    </tr>\n",
       "    <tr>\n",
       "      <th>7</th>\n",
       "      <td>MonthBegin</td>\n",
       "      <td>'MS'</td>\n",
       "      <td>calendar month begin</td>\n",
       "    </tr>\n",
       "    <tr>\n",
       "      <th>8</th>\n",
       "      <td>BMonthEnd or BusinessMonthEnd</td>\n",
       "      <td>'BM'</td>\n",
       "      <td>business month end</td>\n",
       "    </tr>\n",
       "    <tr>\n",
       "      <th>9</th>\n",
       "      <td>BMonthBegin or BusinessMonthBegin</td>\n",
       "      <td>'BMS'</td>\n",
       "      <td>business month begin</td>\n",
       "    </tr>\n",
       "    <tr>\n",
       "      <th>10</th>\n",
       "      <td>CBMonthEnd or CustomBusinessMonthEnd</td>\n",
       "      <td>'CBM'</td>\n",
       "      <td>custom business month end</td>\n",
       "    </tr>\n",
       "    <tr>\n",
       "      <th>11</th>\n",
       "      <td>CBMonthBegin or CustomBusinessMonthBegin</td>\n",
       "      <td>'CBMS'</td>\n",
       "      <td>custom business month begin</td>\n",
       "    </tr>\n",
       "    <tr>\n",
       "      <th>12</th>\n",
       "      <td>SemiMonthEnd</td>\n",
       "      <td>'SM'</td>\n",
       "      <td>15th (or other day_of_month) and calendar mont...</td>\n",
       "    </tr>\n",
       "    <tr>\n",
       "      <th>13</th>\n",
       "      <td>SemiMonthBegin</td>\n",
       "      <td>'SMS'</td>\n",
       "      <td>15th (or other day_of_month) and calendar mont...</td>\n",
       "    </tr>\n",
       "    <tr>\n",
       "      <th>14</th>\n",
       "      <td>QuarterEnd</td>\n",
       "      <td>'Q'</td>\n",
       "      <td>calendar quarter end</td>\n",
       "    </tr>\n",
       "    <tr>\n",
       "      <th>15</th>\n",
       "      <td>QuarterBegin</td>\n",
       "      <td>'QS'</td>\n",
       "      <td>calendar quarter begin</td>\n",
       "    </tr>\n",
       "    <tr>\n",
       "      <th>16</th>\n",
       "      <td>BQuarterEnd</td>\n",
       "      <td>'BQ</td>\n",
       "      <td>business quarter end</td>\n",
       "    </tr>\n",
       "    <tr>\n",
       "      <th>17</th>\n",
       "      <td>BQuarterBegin</td>\n",
       "      <td>'BQS'</td>\n",
       "      <td>business quarter begin</td>\n",
       "    </tr>\n",
       "    <tr>\n",
       "      <th>18</th>\n",
       "      <td>FY5253Quarter</td>\n",
       "      <td>'REQ'</td>\n",
       "      <td>retail (aka 52-53 week) quarter</td>\n",
       "    </tr>\n",
       "    <tr>\n",
       "      <th>19</th>\n",
       "      <td>YearEnd</td>\n",
       "      <td>'A'</td>\n",
       "      <td>calendar year end</td>\n",
       "    </tr>\n",
       "    <tr>\n",
       "      <th>20</th>\n",
       "      <td>YearBegin</td>\n",
       "      <td>'AS' or 'BYS'</td>\n",
       "      <td>calendar year begin</td>\n",
       "    </tr>\n",
       "    <tr>\n",
       "      <th>21</th>\n",
       "      <td>BYearEnd</td>\n",
       "      <td>'BA'</td>\n",
       "      <td>business year end</td>\n",
       "    </tr>\n",
       "    <tr>\n",
       "      <th>22</th>\n",
       "      <td>BYearBegin</td>\n",
       "      <td>'BAS'</td>\n",
       "      <td>business year begin</td>\n",
       "    </tr>\n",
       "    <tr>\n",
       "      <th>23</th>\n",
       "      <td>FY5253</td>\n",
       "      <td>'RE'</td>\n",
       "      <td>retail (aka 52-53 week) year</td>\n",
       "    </tr>\n",
       "    <tr>\n",
       "      <th>24</th>\n",
       "      <td>Easter</td>\n",
       "      <td>None</td>\n",
       "      <td>Easter holiday</td>\n",
       "    </tr>\n",
       "    <tr>\n",
       "      <th>25</th>\n",
       "      <td>BusinessHour</td>\n",
       "      <td>'BH'</td>\n",
       "      <td>business hour</td>\n",
       "    </tr>\n",
       "    <tr>\n",
       "      <th>26</th>\n",
       "      <td>CustomBusinessHour</td>\n",
       "      <td>'CBH'</td>\n",
       "      <td>custom business hour</td>\n",
       "    </tr>\n",
       "    <tr>\n",
       "      <th>27</th>\n",
       "      <td>Day</td>\n",
       "      <td>'D'</td>\n",
       "      <td>one absolute day</td>\n",
       "    </tr>\n",
       "    <tr>\n",
       "      <th>28</th>\n",
       "      <td>Hour</td>\n",
       "      <td>'H'</td>\n",
       "      <td>one hour</td>\n",
       "    </tr>\n",
       "    <tr>\n",
       "      <th>29</th>\n",
       "      <td>Minute</td>\n",
       "      <td>'T' or 'min'</td>\n",
       "      <td>one minute</td>\n",
       "    </tr>\n",
       "    <tr>\n",
       "      <th>30</th>\n",
       "      <td>Second</td>\n",
       "      <td>'S'</td>\n",
       "      <td>one second</td>\n",
       "    </tr>\n",
       "    <tr>\n",
       "      <th>31</th>\n",
       "      <td>Milli</td>\n",
       "      <td>'L' or 'ms'</td>\n",
       "      <td>one millisecond</td>\n",
       "    </tr>\n",
       "    <tr>\n",
       "      <th>32</th>\n",
       "      <td>Micro</td>\n",
       "      <td>'U' or 'us'</td>\n",
       "      <td>one microsecond</td>\n",
       "    </tr>\n",
       "    <tr>\n",
       "      <th>33</th>\n",
       "      <td>Nano</td>\n",
       "      <td>'N'</td>\n",
       "      <td>one nanosecond</td>\n",
       "    </tr>\n",
       "  </tbody>\n",
       "</table>\n",
       "</div>"
      ],
      "text/plain": [
       "                                 Date Offset Frequency String  \\\n",
       "0                                 DateOffset             None   \n",
       "1                        BDay or BusinessDay              'B'   \n",
       "2                  CDay or CustomBusinessDay              'C'   \n",
       "3                                       Week              'W'   \n",
       "4                                WeekOfMonth            'WOM'   \n",
       "5                            LastWeekOfMonth           'LWOM'   \n",
       "6                                   MonthEnd              'M'   \n",
       "7                                 MonthBegin             'MS'   \n",
       "8              BMonthEnd or BusinessMonthEnd             'BM'   \n",
       "9          BMonthBegin or BusinessMonthBegin            'BMS'   \n",
       "10      CBMonthEnd or CustomBusinessMonthEnd            'CBM'   \n",
       "11  CBMonthBegin or CustomBusinessMonthBegin           'CBMS'   \n",
       "12                              SemiMonthEnd             'SM'   \n",
       "13                            SemiMonthBegin            'SMS'   \n",
       "14                                QuarterEnd              'Q'   \n",
       "15                              QuarterBegin             'QS'   \n",
       "16                               BQuarterEnd              'BQ   \n",
       "17                             BQuarterBegin            'BQS'   \n",
       "18                             FY5253Quarter            'REQ'   \n",
       "19                                   YearEnd              'A'   \n",
       "20                                 YearBegin    'AS' or 'BYS'   \n",
       "21                                  BYearEnd             'BA'   \n",
       "22                                BYearBegin            'BAS'   \n",
       "23                                    FY5253             'RE'   \n",
       "24                                    Easter             None   \n",
       "25                              BusinessHour             'BH'   \n",
       "26                        CustomBusinessHour            'CBH'   \n",
       "27                                       Day              'D'   \n",
       "28                                      Hour              'H'   \n",
       "29                                    Minute     'T' or 'min'   \n",
       "30                                    Second              'S'   \n",
       "31                                     Milli      'L' or 'ms'   \n",
       "32                                     Micro      'U' or 'us'   \n",
       "33                                      Nano              'N'   \n",
       "\n",
       "                                          Description  \n",
       "0   Generic offset class, defaults to absolute 24 ...  \n",
       "1                              business day (weekday)  \n",
       "2                                 custom business day  \n",
       "3   one week, optionally anchored on a day of the ...  \n",
       "4         the x-th day of the y-th week of each month  \n",
       "5         the x-th day of the last week of each month  \n",
       "6                                  calendar month end  \n",
       "7                                calendar month begin  \n",
       "8                                  business month end  \n",
       "9                                business month begin  \n",
       "10                          custom business month end  \n",
       "11                        custom business month begin  \n",
       "12  15th (or other day_of_month) and calendar mont...  \n",
       "13  15th (or other day_of_month) and calendar mont...  \n",
       "14                               calendar quarter end  \n",
       "15                             calendar quarter begin  \n",
       "16                               business quarter end  \n",
       "17                             business quarter begin  \n",
       "18                    retail (aka 52-53 week) quarter  \n",
       "19                                  calendar year end  \n",
       "20                                calendar year begin  \n",
       "21                                  business year end  \n",
       "22                                business year begin  \n",
       "23                       retail (aka 52-53 week) year  \n",
       "24                                     Easter holiday  \n",
       "25                                      business hour  \n",
       "26                               custom business hour  \n",
       "27                                   one absolute day  \n",
       "28                                           one hour  \n",
       "29                                         one minute  \n",
       "30                                         one second  \n",
       "31                                    one millisecond  \n",
       "32                                    one microsecond  \n",
       "33                                     one nanosecond  "
      ]
     },
     "execution_count": 18,
     "metadata": {},
     "output_type": "execute_result"
    }
   ],
   "source": [
    "pd.read_excel('Resources/Frequency_Strings.xlsx', engine='openpyxl')\n",
    "\n",
    "# https://pandas.pydata.org/pandas-docs/stable/user_guide/timeseries.html#dateoffset-objects"
   ]
  },
  {
   "cell_type": "markdown",
   "metadata": {},
   "source": [
    "### Resampling"
   ]
  },
  {
   "cell_type": "code",
   "execution_count": null,
   "metadata": {},
   "outputs": [],
   "source": [
    "# Downsampling: \n",
    "tmonthly = temp_data.resample('MS').mean()\n",
    "\n",
    "# Upsampling:\n",
    "\n",
    "# Dealing with null values: fill (there are other ways to fill as well)\n"
   ]
  },
  {
   "cell_type": "code",
   "execution_count": 19,
   "metadata": {},
   "outputs": [
    {
     "data": {
      "text/plain": [
       "{1, 2, 3}"
      ]
     },
     "execution_count": 19,
     "metadata": {},
     "output_type": "execute_result"
    }
   ],
   "source": [
    "i = [1,2,3,1,2,3]\n",
    "set(i)"
   ]
  },
  {
   "cell_type": "code",
   "execution_count": null,
   "metadata": {},
   "outputs": [],
   "source": []
  },
  {
   "cell_type": "markdown",
   "metadata": {},
   "source": [
    "## NLP"
   ]
  },
  {
   "cell_type": "code",
   "execution_count": null,
   "metadata": {},
   "outputs": [],
   "source": []
  },
  {
   "cell_type": "code",
   "execution_count": null,
   "metadata": {},
   "outputs": [],
   "source": []
  },
  {
   "cell_type": "code",
   "execution_count": null,
   "metadata": {},
   "outputs": [],
   "source": []
  },
  {
   "cell_type": "code",
   "execution_count": null,
   "metadata": {},
   "outputs": [],
   "source": []
  },
  {
   "cell_type": "code",
   "execution_count": null,
   "metadata": {},
   "outputs": [],
   "source": []
  },
  {
   "cell_type": "code",
   "execution_count": null,
   "metadata": {},
   "outputs": [],
   "source": []
  },
  {
   "cell_type": "code",
   "execution_count": null,
   "metadata": {},
   "outputs": [],
   "source": []
  },
  {
   "cell_type": "code",
   "execution_count": null,
   "metadata": {},
   "outputs": [],
   "source": []
  },
  {
   "cell_type": "code",
   "execution_count": null,
   "metadata": {},
   "outputs": [],
   "source": []
  },
  {
   "cell_type": "code",
   "execution_count": null,
   "metadata": {},
   "outputs": [],
   "source": []
  },
  {
   "cell_type": "code",
   "execution_count": null,
   "metadata": {},
   "outputs": [],
   "source": []
  },
  {
   "cell_type": "code",
   "execution_count": null,
   "metadata": {},
   "outputs": [],
   "source": []
  },
  {
   "cell_type": "code",
   "execution_count": null,
   "metadata": {},
   "outputs": [],
   "source": []
  },
  {
   "cell_type": "code",
   "execution_count": null,
   "metadata": {},
   "outputs": [],
   "source": []
  },
  {
   "cell_type": "code",
   "execution_count": null,
   "metadata": {},
   "outputs": [],
   "source": []
  },
  {
   "cell_type": "code",
   "execution_count": null,
   "metadata": {},
   "outputs": [],
   "source": []
  },
  {
   "cell_type": "code",
   "execution_count": null,
   "metadata": {},
   "outputs": [],
   "source": []
  },
  {
   "cell_type": "code",
   "execution_count": null,
   "metadata": {},
   "outputs": [],
   "source": []
  },
  {
   "cell_type": "code",
   "execution_count": null,
   "metadata": {},
   "outputs": [],
   "source": []
  },
  {
   "cell_type": "code",
   "execution_count": null,
   "metadata": {},
   "outputs": [],
   "source": []
  },
  {
   "cell_type": "code",
   "execution_count": null,
   "metadata": {},
   "outputs": [],
   "source": []
  },
  {
   "cell_type": "code",
   "execution_count": null,
   "metadata": {},
   "outputs": [],
   "source": []
  },
  {
   "cell_type": "code",
   "execution_count": null,
   "metadata": {},
   "outputs": [],
   "source": []
  },
  {
   "cell_type": "code",
   "execution_count": null,
   "metadata": {},
   "outputs": [],
   "source": []
  },
  {
   "cell_type": "code",
   "execution_count": null,
   "metadata": {},
   "outputs": [],
   "source": []
  },
  {
   "cell_type": "code",
   "execution_count": null,
   "metadata": {},
   "outputs": [],
   "source": []
  },
  {
   "cell_type": "code",
   "execution_count": null,
   "metadata": {},
   "outputs": [],
   "source": []
  },
  {
   "cell_type": "code",
   "execution_count": null,
   "metadata": {},
   "outputs": [],
   "source": []
  },
  {
   "cell_type": "code",
   "execution_count": null,
   "metadata": {},
   "outputs": [],
   "source": []
  },
  {
   "cell_type": "code",
   "execution_count": null,
   "metadata": {},
   "outputs": [],
   "source": []
  },
  {
   "cell_type": "code",
   "execution_count": null,
   "metadata": {},
   "outputs": [],
   "source": []
  },
  {
   "cell_type": "code",
   "execution_count": null,
   "metadata": {},
   "outputs": [],
   "source": []
  }
 ],
 "metadata": {
  "kernelspec": {
   "display_name": "Python 3",
   "language": "python",
   "name": "python3"
  },
  "language_info": {
   "codemirror_mode": {
    "name": "ipython",
    "version": 3
   },
   "file_extension": ".py",
   "mimetype": "text/x-python",
   "name": "python",
   "nbconvert_exporter": "python",
   "pygments_lexer": "ipython3",
   "version": "3.8.3"
  },
  "toc": {
   "base_numbering": 1,
   "nav_menu": {
    "height": "328.991px",
    "width": "325px"
   },
   "number_sections": true,
   "sideBar": true,
   "skip_h1_title": false,
   "title_cell": "Table of Contents",
   "title_sidebar": "Contents",
   "toc_cell": false,
   "toc_position": {
    "height": "calc(100% - 180px)",
    "left": "10px",
    "top": "150px",
    "width": "230.4px"
   },
   "toc_section_display": true,
   "toc_window_display": true
  }
 },
 "nbformat": 4,
 "nbformat_minor": 4
}
